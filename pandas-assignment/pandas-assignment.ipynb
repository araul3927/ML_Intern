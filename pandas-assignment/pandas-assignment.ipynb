{
 "metadata": {
  "language_info": {
   "codemirror_mode": {
    "name": "ipython",
    "version": 3
   },
   "file_extension": ".py",
   "mimetype": "text/x-python",
   "name": "python",
   "nbconvert_exporter": "python",
   "pygments_lexer": "ipython3",
   "version": "3.9.5-final"
  },
  "orig_nbformat": 2,
  "kernelspec": {
   "name": "python39564bitmltraineevenv9b95c2ac1a7547099d0445dfbdb73c4f",
   "display_name": "Python 3.9.5 64-bit ('ml_trainee': venv)"
  }
 },
 "nbformat": 4,
 "nbformat_minor": 2,
 "cells": [
  {
   "cell_type": "markdown",
   "metadata": {},
   "source": [
    "# Exercise 1"
   ]
  },
  {
   "cell_type": "code",
   "execution_count": 192,
   "metadata": {},
   "outputs": [],
   "source": [
    "import pandas as pd\n",
    "import numpy as np"
   ]
  },
  {
   "cell_type": "code",
   "execution_count": 193,
   "metadata": {},
   "outputs": [
    {
     "output_type": "execute_result",
     "data": {
      "text/plain": "b         4\na         2\nc         5\nd        hi\nf    pandas\nz       NaN\ndtype: object"
     },
     "metadata": {},
     "execution_count": 193
    }
   ],
   "source": [
    "data = {\"b\": 4, \"a\": 2, \"c\": 5,\"d\": \"hi\", \"f\": \"pandas\", \"z\": np.nan}\n",
    "ds = pd.Series(data)\n",
    "ds\n",
    "\n",
    "\n"
   ]
  },
  {
   "cell_type": "code",
   "execution_count": 194,
   "metadata": {},
   "outputs": [],
   "source": [
    "ds = ds.dropna() #removed null value"
   ]
  },
  {
   "cell_type": "code",
   "execution_count": 195,
   "metadata": {},
   "outputs": [
    {
     "output_type": "execute_result",
     "data": {
      "text/plain": "a         2\nb         4\nc         5\nd        hi\nf    pandas\ndtype: object"
     },
     "metadata": {},
     "execution_count": 195
    }
   ],
   "source": [
    "ds.sort_index() #sort alphabetically"
   ]
  },
  {
   "cell_type": "code",
   "execution_count": 196,
   "metadata": {},
   "outputs": [
    {
     "output_type": "execute_result",
     "data": {
      "text/plain": "5"
     },
     "metadata": {},
     "execution_count": 196
    }
   ],
   "source": [
    "ds.nunique()    # count of unique element"
   ]
  },
  {
   "cell_type": "code",
   "execution_count": 197,
   "metadata": {},
   "outputs": [
    {
     "output_type": "execute_result",
     "data": {
      "text/plain": "f    pandas\nd        hi\nc         5\nb         4\na         2\ndtype: object"
     },
     "metadata": {},
     "execution_count": 197
    }
   ],
   "source": [
    "ds.sort_index(ascending=False)  #sort descending"
   ]
  },
  {
   "cell_type": "markdown",
   "metadata": {},
   "source": [
    "# Exercise 2"
   ]
  },
  {
   "cell_type": "code",
   "execution_count": 206,
   "metadata": {
    "tags": []
   },
   "outputs": [
    {
     "output_type": "stream",
     "name": "stdout",
     "text": "col1  col2  col3  col4  col5\n0     48    18    50    65     6\n1     27    54    15    26    56\n2     67    47    72    60    62\n3     32    43    90    58    53\n4     46    65    29    86    61\n5     75    35    64    25    46\n6     49    72     0    77    93\n7     87    83    31    69    26\n8     77    23    35    18    68\n9     92    39    37    56    39\n10    72    13    66    60    37\n11    62    15    60    19     1\n12    13    16    11    32    33\n13    97    80    45    73    81\n14    64    68    19    88    21\n15    63    58    55    68    19\n16    65    39    23    89    79\n17    22    21    98    33    43\n18    37    75    29    78    18\n19    24    19    67    26    78\n20     1    74     1    56    67\n21    43    49    36     9    67\n22    20    98    13    75    75\n23    75    91     8    16    78\n24    37    92     4    61    19\n25    97    67    38    62    23\n26    88     0    48     4    98\n27    45    26    98    60    32\n28    28    53    54     9    32\n29    10    34    90    92    97\n30    18     2    13    54    30\n31    93    61    10    17    15\n32     4    88    70    90    14\n33    21    94    97    69    45\n34    40    92    26    78    15\n35    69    14    42    28    98\n36    70    27    98    71    83\n37    53    94    68    42    28\n38    34     2    73    49    57\n39    31    47    70    79    20\n40     5    23    17    56    83\n41     7    29    46    99    55\n42    28    40    28    23    12\n43    87    53    94    54    17\n44    39    33    43    53    31\n45    36    20    24    22    69\n46    56    22    96     3    53\n47    13    14    38     0    52\n48    47    18    68    53    74\n49    18    98    54    68    47\n"
    },
    {
     "output_type": "execute_result",
     "data": {
      "text/plain": "   col1  col2  col3\n6    49    72     0\n7    87    83    31\n8    77    23    35",
      "text/html": "<div>\n<style scoped>\n    .dataframe tbody tr th:only-of-type {\n        vertical-align: middle;\n    }\n\n    .dataframe tbody tr th {\n        vertical-align: top;\n    }\n\n    .dataframe thead th {\n        text-align: right;\n    }\n</style>\n<table border=\"1\" class=\"dataframe\">\n  <thead>\n    <tr style=\"text-align: right;\">\n      <th></th>\n      <th>col1</th>\n      <th>col2</th>\n      <th>col3</th>\n    </tr>\n  </thead>\n  <tbody>\n    <tr>\n      <th>6</th>\n      <td>49</td>\n      <td>72</td>\n      <td>0</td>\n    </tr>\n    <tr>\n      <th>7</th>\n      <td>87</td>\n      <td>83</td>\n      <td>31</td>\n    </tr>\n    <tr>\n      <th>8</th>\n      <td>77</td>\n      <td>23</td>\n      <td>35</td>\n    </tr>\n  </tbody>\n</table>\n</div>"
     },
     "metadata": {},
     "execution_count": 206
    }
   ],
   "source": [
    "df = pd.DataFrame(np.random.randint(100,size =(50, 5)) ,columns = ['col1','col2','col3','col4','col5'])\n",
    "print(df)\n",
    "df.iloc[6:9, :3]"
   ]
  },
  {
   "cell_type": "code",
   "execution_count": 199,
   "metadata": {},
   "outputs": [
    {
     "output_type": "execute_result",
     "data": {
      "text/plain": "    col2  col5\n40    97    74\n41    28     4\n42    22    47\n43    21    70\n44    42    59\n45    68     4\n46    35    81\n47     3    20\n48    39    37\n49    25    30",
      "text/html": "<div>\n<style scoped>\n    .dataframe tbody tr th:only-of-type {\n        vertical-align: middle;\n    }\n\n    .dataframe tbody tr th {\n        vertical-align: top;\n    }\n\n    .dataframe thead th {\n        text-align: right;\n    }\n</style>\n<table border=\"1\" class=\"dataframe\">\n  <thead>\n    <tr style=\"text-align: right;\">\n      <th></th>\n      <th>col2</th>\n      <th>col5</th>\n    </tr>\n  </thead>\n  <tbody>\n    <tr>\n      <th>40</th>\n      <td>97</td>\n      <td>74</td>\n    </tr>\n    <tr>\n      <th>41</th>\n      <td>28</td>\n      <td>4</td>\n    </tr>\n    <tr>\n      <th>42</th>\n      <td>22</td>\n      <td>47</td>\n    </tr>\n    <tr>\n      <th>43</th>\n      <td>21</td>\n      <td>70</td>\n    </tr>\n    <tr>\n      <th>44</th>\n      <td>42</td>\n      <td>59</td>\n    </tr>\n    <tr>\n      <th>45</th>\n      <td>68</td>\n      <td>4</td>\n    </tr>\n    <tr>\n      <th>46</th>\n      <td>35</td>\n      <td>81</td>\n    </tr>\n    <tr>\n      <th>47</th>\n      <td>3</td>\n      <td>20</td>\n    </tr>\n    <tr>\n      <th>48</th>\n      <td>39</td>\n      <td>37</td>\n    </tr>\n    <tr>\n      <th>49</th>\n      <td>25</td>\n      <td>30</td>\n    </tr>\n  </tbody>\n</table>\n</div>"
     },
     "metadata": {},
     "execution_count": 199
    }
   ],
   "source": [
    "df.loc[40:50,[\"col2\",\"col5\"]]"
   ]
  },
  {
   "cell_type": "code",
   "execution_count": 200,
   "metadata": {},
   "outputs": [
    {
     "output_type": "execute_result",
     "data": {
      "text/plain": "    col1  col5\n0     81    48\n1     97    12\n2     31     3\n4     91    81\n6      1    91\n7     66     2\n8     22    26\n10    14    67\n11    31     0\n12    86     7\n13    37     9\n14    71    50\n15    63    56\n16    59    26\n17    93    82\n18    83    56\n19     5    22\n20    11     5\n21    67    55\n22     4    63\n26    84    77\n27    40    91\n28    69    30\n29    28    62\n30    95    54\n31    24    65\n32    83     2\n33    90    22\n34     3    34\n35    89    97\n37    97    90\n38    99     4\n39    96    53\n40    45    74\n41    45     4\n42    44    47\n43    92    70\n44    53    59\n45    60     4\n46    44    81\n48    75    37\n49    96    30",
      "text/html": "<div>\n<style scoped>\n    .dataframe tbody tr th:only-of-type {\n        vertical-align: middle;\n    }\n\n    .dataframe tbody tr th {\n        vertical-align: top;\n    }\n\n    .dataframe thead th {\n        text-align: right;\n    }\n</style>\n<table border=\"1\" class=\"dataframe\">\n  <thead>\n    <tr style=\"text-align: right;\">\n      <th></th>\n      <th>col1</th>\n      <th>col5</th>\n    </tr>\n  </thead>\n  <tbody>\n    <tr>\n      <th>0</th>\n      <td>81</td>\n      <td>48</td>\n    </tr>\n    <tr>\n      <th>1</th>\n      <td>97</td>\n      <td>12</td>\n    </tr>\n    <tr>\n      <th>2</th>\n      <td>31</td>\n      <td>3</td>\n    </tr>\n    <tr>\n      <th>4</th>\n      <td>91</td>\n      <td>81</td>\n    </tr>\n    <tr>\n      <th>6</th>\n      <td>1</td>\n      <td>91</td>\n    </tr>\n    <tr>\n      <th>7</th>\n      <td>66</td>\n      <td>2</td>\n    </tr>\n    <tr>\n      <th>8</th>\n      <td>22</td>\n      <td>26</td>\n    </tr>\n    <tr>\n      <th>10</th>\n      <td>14</td>\n      <td>67</td>\n    </tr>\n    <tr>\n      <th>11</th>\n      <td>31</td>\n      <td>0</td>\n    </tr>\n    <tr>\n      <th>12</th>\n      <td>86</td>\n      <td>7</td>\n    </tr>\n    <tr>\n      <th>13</th>\n      <td>37</td>\n      <td>9</td>\n    </tr>\n    <tr>\n      <th>14</th>\n      <td>71</td>\n      <td>50</td>\n    </tr>\n    <tr>\n      <th>15</th>\n      <td>63</td>\n      <td>56</td>\n    </tr>\n    <tr>\n      <th>16</th>\n      <td>59</td>\n      <td>26</td>\n    </tr>\n    <tr>\n      <th>17</th>\n      <td>93</td>\n      <td>82</td>\n    </tr>\n    <tr>\n      <th>18</th>\n      <td>83</td>\n      <td>56</td>\n    </tr>\n    <tr>\n      <th>19</th>\n      <td>5</td>\n      <td>22</td>\n    </tr>\n    <tr>\n      <th>20</th>\n      <td>11</td>\n      <td>5</td>\n    </tr>\n    <tr>\n      <th>21</th>\n      <td>67</td>\n      <td>55</td>\n    </tr>\n    <tr>\n      <th>22</th>\n      <td>4</td>\n      <td>63</td>\n    </tr>\n    <tr>\n      <th>26</th>\n      <td>84</td>\n      <td>77</td>\n    </tr>\n    <tr>\n      <th>27</th>\n      <td>40</td>\n      <td>91</td>\n    </tr>\n    <tr>\n      <th>28</th>\n      <td>69</td>\n      <td>30</td>\n    </tr>\n    <tr>\n      <th>29</th>\n      <td>28</td>\n      <td>62</td>\n    </tr>\n    <tr>\n      <th>30</th>\n      <td>95</td>\n      <td>54</td>\n    </tr>\n    <tr>\n      <th>31</th>\n      <td>24</td>\n      <td>65</td>\n    </tr>\n    <tr>\n      <th>32</th>\n      <td>83</td>\n      <td>2</td>\n    </tr>\n    <tr>\n      <th>33</th>\n      <td>90</td>\n      <td>22</td>\n    </tr>\n    <tr>\n      <th>34</th>\n      <td>3</td>\n      <td>34</td>\n    </tr>\n    <tr>\n      <th>35</th>\n      <td>89</td>\n      <td>97</td>\n    </tr>\n    <tr>\n      <th>37</th>\n      <td>97</td>\n      <td>90</td>\n    </tr>\n    <tr>\n      <th>38</th>\n      <td>99</td>\n      <td>4</td>\n    </tr>\n    <tr>\n      <th>39</th>\n      <td>96</td>\n      <td>53</td>\n    </tr>\n    <tr>\n      <th>40</th>\n      <td>45</td>\n      <td>74</td>\n    </tr>\n    <tr>\n      <th>41</th>\n      <td>45</td>\n      <td>4</td>\n    </tr>\n    <tr>\n      <th>42</th>\n      <td>44</td>\n      <td>47</td>\n    </tr>\n    <tr>\n      <th>43</th>\n      <td>92</td>\n      <td>70</td>\n    </tr>\n    <tr>\n      <th>44</th>\n      <td>53</td>\n      <td>59</td>\n    </tr>\n    <tr>\n      <th>45</th>\n      <td>60</td>\n      <td>4</td>\n    </tr>\n    <tr>\n      <th>46</th>\n      <td>44</td>\n      <td>81</td>\n    </tr>\n    <tr>\n      <th>48</th>\n      <td>75</td>\n      <td>37</td>\n    </tr>\n    <tr>\n      <th>49</th>\n      <td>96</td>\n      <td>30</td>\n    </tr>\n  </tbody>\n</table>\n</div>"
     },
     "metadata": {},
     "execution_count": 200
    }
   ],
   "source": [
    "df.loc[df[\"col2\"] > 10, [\"col1\",\"col5\"]]"
   ]
  },
  {
   "cell_type": "code",
   "execution_count": 201,
   "metadata": {
    "tags": []
   },
   "outputs": [
    {
     "output_type": "stream",
     "name": "stdout",
     "text": "[40 89 45 99 31 24 75 28 44 24 39 21 45 12 85]\n"
    },
    {
     "output_type": "execute_result",
     "data": {
      "text/plain": "    col1  col2  col3  col4  col5\n2     31    92    38    21     3\n3     24    10    97    56    43\n11    31    84    45    42     0\n27    40    98    34    33    91\n29    28    37    80    97    62\n31    24    72     6    59    65\n35    89    23    73    31    97\n38    99    13    43    68     4\n40    45    97    68     3    74\n41    45    28    43    36     4\n42    44    22    23    79    47\n46    44    35    66    83    81\n48    75    39    26    50    37",
      "text/html": "<div>\n<style scoped>\n    .dataframe tbody tr th:only-of-type {\n        vertical-align: middle;\n    }\n\n    .dataframe tbody tr th {\n        vertical-align: top;\n    }\n\n    .dataframe thead th {\n        text-align: right;\n    }\n</style>\n<table border=\"1\" class=\"dataframe\">\n  <thead>\n    <tr style=\"text-align: right;\">\n      <th></th>\n      <th>col1</th>\n      <th>col2</th>\n      <th>col3</th>\n      <th>col4</th>\n      <th>col5</th>\n    </tr>\n  </thead>\n  <tbody>\n    <tr>\n      <th>2</th>\n      <td>31</td>\n      <td>92</td>\n      <td>38</td>\n      <td>21</td>\n      <td>3</td>\n    </tr>\n    <tr>\n      <th>3</th>\n      <td>24</td>\n      <td>10</td>\n      <td>97</td>\n      <td>56</td>\n      <td>43</td>\n    </tr>\n    <tr>\n      <th>11</th>\n      <td>31</td>\n      <td>84</td>\n      <td>45</td>\n      <td>42</td>\n      <td>0</td>\n    </tr>\n    <tr>\n      <th>27</th>\n      <td>40</td>\n      <td>98</td>\n      <td>34</td>\n      <td>33</td>\n      <td>91</td>\n    </tr>\n    <tr>\n      <th>29</th>\n      <td>28</td>\n      <td>37</td>\n      <td>80</td>\n      <td>97</td>\n      <td>62</td>\n    </tr>\n    <tr>\n      <th>31</th>\n      <td>24</td>\n      <td>72</td>\n      <td>6</td>\n      <td>59</td>\n      <td>65</td>\n    </tr>\n    <tr>\n      <th>35</th>\n      <td>89</td>\n      <td>23</td>\n      <td>73</td>\n      <td>31</td>\n      <td>97</td>\n    </tr>\n    <tr>\n      <th>38</th>\n      <td>99</td>\n      <td>13</td>\n      <td>43</td>\n      <td>68</td>\n      <td>4</td>\n    </tr>\n    <tr>\n      <th>40</th>\n      <td>45</td>\n      <td>97</td>\n      <td>68</td>\n      <td>3</td>\n      <td>74</td>\n    </tr>\n    <tr>\n      <th>41</th>\n      <td>45</td>\n      <td>28</td>\n      <td>43</td>\n      <td>36</td>\n      <td>4</td>\n    </tr>\n    <tr>\n      <th>42</th>\n      <td>44</td>\n      <td>22</td>\n      <td>23</td>\n      <td>79</td>\n      <td>47</td>\n    </tr>\n    <tr>\n      <th>46</th>\n      <td>44</td>\n      <td>35</td>\n      <td>66</td>\n      <td>83</td>\n      <td>81</td>\n    </tr>\n    <tr>\n      <th>48</th>\n      <td>75</td>\n      <td>39</td>\n      <td>26</td>\n      <td>50</td>\n      <td>37</td>\n    </tr>\n  </tbody>\n</table>\n</div>"
     },
     "metadata": {},
     "execution_count": 201
    }
   ],
   "source": [
    "df1 = df['col1'].sample(n=10,random_state=1)\n",
    "\n",
    "df_list = df1.to_numpy()\n",
    "df_list = np.append(df_list,np.random.randint(100,size = 5))\n",
    "print(df_list)\n",
    "filtered_df = df['col1'].isin(df_list)\n",
    "df[filtered_df]"
   ]
  },
  {
   "cell_type": "code",
   "execution_count": 202,
   "metadata": {},
   "outputs": [
    {
     "output_type": "execute_result",
     "data": {
      "text/plain": "    col1  col2  col3  col4  col5\n0     81    85    96    32    48\n1     97    33    12    78    12\n2     31    92    38    21     3\n3     24    10    97    56    43\n4     91    36    76    23    81\n5     30     7    46     1    45\n6      1    27    17    42    91\n7     66    87    10    22     2\n8     22    55     9    51    26\n9      7     1    49    44    17\n10    14    24    37    94    67\n11    31    84    45    42     0\n12    86    20    37    14     7\n13    37    85    11    39     9\n14    71    14    44    76    50\n15    63    57    38     8    56\n16    59    30    29    99    26\n17    93    53     7    78    82\n18    83    41    97    36    56\n19     5    69     2    55    22\n20    11    98    93    76     5\n21    67    23     2    63    55\n22     4    55     0    92    63\n23    62     0    72    51    68\n24    25     8    78    56    20\n25    52     5    53    52    77\n26    84    66    36    96    77\n27    40    98    34    33    91\n28    69    19     5    90    30\n29    28    37    80    97    62\n30    95    27    76    67    54\n31    24    72     6    59    65\n32    83    62    56    34     2\n33    90    66    71    88    22\n34     3    25    17    82    34\n35    25    23    25    31    97\n36    86    10    69    68    86\n37    97    23     6    37    90\n38    99    13    43    68     4\n39    96    71    32    90    53\n40    45    97    68     3    74\n41    45    28    43    36     4\n42    44    22    23    79    47\n43    92    21    67    50    70\n44    53    42    63    11    59\n45    60    68    50     4     4\n46    44    35    66    83    81\n47    15     3    81    46    20\n48    75    39    26    50    37\n49    96    25    62    31    30",
      "text/html": "<div>\n<style scoped>\n    .dataframe tbody tr th:only-of-type {\n        vertical-align: middle;\n    }\n\n    .dataframe tbody tr th {\n        vertical-align: top;\n    }\n\n    .dataframe thead th {\n        text-align: right;\n    }\n</style>\n<table border=\"1\" class=\"dataframe\">\n  <thead>\n    <tr style=\"text-align: right;\">\n      <th></th>\n      <th>col1</th>\n      <th>col2</th>\n      <th>col3</th>\n      <th>col4</th>\n      <th>col5</th>\n    </tr>\n  </thead>\n  <tbody>\n    <tr>\n      <th>0</th>\n      <td>81</td>\n      <td>85</td>\n      <td>96</td>\n      <td>32</td>\n      <td>48</td>\n    </tr>\n    <tr>\n      <th>1</th>\n      <td>97</td>\n      <td>33</td>\n      <td>12</td>\n      <td>78</td>\n      <td>12</td>\n    </tr>\n    <tr>\n      <th>2</th>\n      <td>31</td>\n      <td>92</td>\n      <td>38</td>\n      <td>21</td>\n      <td>3</td>\n    </tr>\n    <tr>\n      <th>3</th>\n      <td>24</td>\n      <td>10</td>\n      <td>97</td>\n      <td>56</td>\n      <td>43</td>\n    </tr>\n    <tr>\n      <th>4</th>\n      <td>91</td>\n      <td>36</td>\n      <td>76</td>\n      <td>23</td>\n      <td>81</td>\n    </tr>\n    <tr>\n      <th>5</th>\n      <td>30</td>\n      <td>7</td>\n      <td>46</td>\n      <td>1</td>\n      <td>45</td>\n    </tr>\n    <tr>\n      <th>6</th>\n      <td>1</td>\n      <td>27</td>\n      <td>17</td>\n      <td>42</td>\n      <td>91</td>\n    </tr>\n    <tr>\n      <th>7</th>\n      <td>66</td>\n      <td>87</td>\n      <td>10</td>\n      <td>22</td>\n      <td>2</td>\n    </tr>\n    <tr>\n      <th>8</th>\n      <td>22</td>\n      <td>55</td>\n      <td>9</td>\n      <td>51</td>\n      <td>26</td>\n    </tr>\n    <tr>\n      <th>9</th>\n      <td>7</td>\n      <td>1</td>\n      <td>49</td>\n      <td>44</td>\n      <td>17</td>\n    </tr>\n    <tr>\n      <th>10</th>\n      <td>14</td>\n      <td>24</td>\n      <td>37</td>\n      <td>94</td>\n      <td>67</td>\n    </tr>\n    <tr>\n      <th>11</th>\n      <td>31</td>\n      <td>84</td>\n      <td>45</td>\n      <td>42</td>\n      <td>0</td>\n    </tr>\n    <tr>\n      <th>12</th>\n      <td>86</td>\n      <td>20</td>\n      <td>37</td>\n      <td>14</td>\n      <td>7</td>\n    </tr>\n    <tr>\n      <th>13</th>\n      <td>37</td>\n      <td>85</td>\n      <td>11</td>\n      <td>39</td>\n      <td>9</td>\n    </tr>\n    <tr>\n      <th>14</th>\n      <td>71</td>\n      <td>14</td>\n      <td>44</td>\n      <td>76</td>\n      <td>50</td>\n    </tr>\n    <tr>\n      <th>15</th>\n      <td>63</td>\n      <td>57</td>\n      <td>38</td>\n      <td>8</td>\n      <td>56</td>\n    </tr>\n    <tr>\n      <th>16</th>\n      <td>59</td>\n      <td>30</td>\n      <td>29</td>\n      <td>99</td>\n      <td>26</td>\n    </tr>\n    <tr>\n      <th>17</th>\n      <td>93</td>\n      <td>53</td>\n      <td>7</td>\n      <td>78</td>\n      <td>82</td>\n    </tr>\n    <tr>\n      <th>18</th>\n      <td>83</td>\n      <td>41</td>\n      <td>97</td>\n      <td>36</td>\n      <td>56</td>\n    </tr>\n    <tr>\n      <th>19</th>\n      <td>5</td>\n      <td>69</td>\n      <td>2</td>\n      <td>55</td>\n      <td>22</td>\n    </tr>\n    <tr>\n      <th>20</th>\n      <td>11</td>\n      <td>98</td>\n      <td>93</td>\n      <td>76</td>\n      <td>5</td>\n    </tr>\n    <tr>\n      <th>21</th>\n      <td>67</td>\n      <td>23</td>\n      <td>2</td>\n      <td>63</td>\n      <td>55</td>\n    </tr>\n    <tr>\n      <th>22</th>\n      <td>4</td>\n      <td>55</td>\n      <td>0</td>\n      <td>92</td>\n      <td>63</td>\n    </tr>\n    <tr>\n      <th>23</th>\n      <td>62</td>\n      <td>0</td>\n      <td>72</td>\n      <td>51</td>\n      <td>68</td>\n    </tr>\n    <tr>\n      <th>24</th>\n      <td>25</td>\n      <td>8</td>\n      <td>78</td>\n      <td>56</td>\n      <td>20</td>\n    </tr>\n    <tr>\n      <th>25</th>\n      <td>52</td>\n      <td>5</td>\n      <td>53</td>\n      <td>52</td>\n      <td>77</td>\n    </tr>\n    <tr>\n      <th>26</th>\n      <td>84</td>\n      <td>66</td>\n      <td>36</td>\n      <td>96</td>\n      <td>77</td>\n    </tr>\n    <tr>\n      <th>27</th>\n      <td>40</td>\n      <td>98</td>\n      <td>34</td>\n      <td>33</td>\n      <td>91</td>\n    </tr>\n    <tr>\n      <th>28</th>\n      <td>69</td>\n      <td>19</td>\n      <td>5</td>\n      <td>90</td>\n      <td>30</td>\n    </tr>\n    <tr>\n      <th>29</th>\n      <td>28</td>\n      <td>37</td>\n      <td>80</td>\n      <td>97</td>\n      <td>62</td>\n    </tr>\n    <tr>\n      <th>30</th>\n      <td>95</td>\n      <td>27</td>\n      <td>76</td>\n      <td>67</td>\n      <td>54</td>\n    </tr>\n    <tr>\n      <th>31</th>\n      <td>24</td>\n      <td>72</td>\n      <td>6</td>\n      <td>59</td>\n      <td>65</td>\n    </tr>\n    <tr>\n      <th>32</th>\n      <td>83</td>\n      <td>62</td>\n      <td>56</td>\n      <td>34</td>\n      <td>2</td>\n    </tr>\n    <tr>\n      <th>33</th>\n      <td>90</td>\n      <td>66</td>\n      <td>71</td>\n      <td>88</td>\n      <td>22</td>\n    </tr>\n    <tr>\n      <th>34</th>\n      <td>3</td>\n      <td>25</td>\n      <td>17</td>\n      <td>82</td>\n      <td>34</td>\n    </tr>\n    <tr>\n      <th>35</th>\n      <td>25</td>\n      <td>23</td>\n      <td>25</td>\n      <td>31</td>\n      <td>97</td>\n    </tr>\n    <tr>\n      <th>36</th>\n      <td>86</td>\n      <td>10</td>\n      <td>69</td>\n      <td>68</td>\n      <td>86</td>\n    </tr>\n    <tr>\n      <th>37</th>\n      <td>97</td>\n      <td>23</td>\n      <td>6</td>\n      <td>37</td>\n      <td>90</td>\n    </tr>\n    <tr>\n      <th>38</th>\n      <td>99</td>\n      <td>13</td>\n      <td>43</td>\n      <td>68</td>\n      <td>4</td>\n    </tr>\n    <tr>\n      <th>39</th>\n      <td>96</td>\n      <td>71</td>\n      <td>32</td>\n      <td>90</td>\n      <td>53</td>\n    </tr>\n    <tr>\n      <th>40</th>\n      <td>45</td>\n      <td>97</td>\n      <td>68</td>\n      <td>3</td>\n      <td>74</td>\n    </tr>\n    <tr>\n      <th>41</th>\n      <td>45</td>\n      <td>28</td>\n      <td>43</td>\n      <td>36</td>\n      <td>4</td>\n    </tr>\n    <tr>\n      <th>42</th>\n      <td>44</td>\n      <td>22</td>\n      <td>23</td>\n      <td>79</td>\n      <td>47</td>\n    </tr>\n    <tr>\n      <th>43</th>\n      <td>92</td>\n      <td>21</td>\n      <td>67</td>\n      <td>50</td>\n      <td>70</td>\n    </tr>\n    <tr>\n      <th>44</th>\n      <td>53</td>\n      <td>42</td>\n      <td>63</td>\n      <td>11</td>\n      <td>59</td>\n    </tr>\n    <tr>\n      <th>45</th>\n      <td>60</td>\n      <td>68</td>\n      <td>50</td>\n      <td>4</td>\n      <td>4</td>\n    </tr>\n    <tr>\n      <th>46</th>\n      <td>44</td>\n      <td>35</td>\n      <td>66</td>\n      <td>83</td>\n      <td>81</td>\n    </tr>\n    <tr>\n      <th>47</th>\n      <td>15</td>\n      <td>3</td>\n      <td>81</td>\n      <td>46</td>\n      <td>20</td>\n    </tr>\n    <tr>\n      <th>48</th>\n      <td>75</td>\n      <td>39</td>\n      <td>26</td>\n      <td>50</td>\n      <td>37</td>\n    </tr>\n    <tr>\n      <th>49</th>\n      <td>96</td>\n      <td>25</td>\n      <td>62</td>\n      <td>31</td>\n      <td>30</td>\n    </tr>\n  </tbody>\n</table>\n</div>"
     },
     "metadata": {},
     "execution_count": 202
    }
   ],
   "source": [
    "df.iloc[[35],[0,2]] = 25    #update 35th index of 1st and 3rd column with 25\n",
    "df"
   ]
  },
  {
   "cell_type": "code",
   "execution_count": 203,
   "metadata": {},
   "outputs": [
    {
     "output_type": "execute_result",
     "data": {
      "text/plain": "    col1  col2  col3  col4  col5\n0     81    85    96    32    48\n1     97    33    12    78    12\n2     31    92    38    21     3\n3     24    10    97    56    43\n4     91    36    76    23    81\n5     30     7    46     1    45\n6      1    27    17    42    91\n7     66    87    10    22     2\n8     22    55     9    51    26\n9      7     1    49    44    17\n10    14    24    37    94    67\n11    31    84    45    42     0\n12    86    20    37    14     7\n13    37    85    11    39     9\n14    71    14    44    76    50\n15    63    57    38     8    56\n16    59    30    29    99    26\n17    93    53     7    78    82\n18    83    41    97    36    56\n19     5    69     2    55    22\n20    11    98    93    76     5\n21    67    23     2    63    55\n22     4    55     0    92    63\n23    62     0    72    51    68\n24    25     8    78    56    20\n25    52     5    53    52    77\n26    84    66    36    96    77\n27    40    98    34    33    91\n28    69    19     5    90    30\n29    28    37    80    97    62\n30    95    27    76    67    54\n31    24    72     6    59    65\n32    83    62    56    34     2\n33    90    66    71    88    22\n34     3    25    17    82    34\n36    86    10    69    68    86\n37    97    23     6    37    90\n38    99    13    43    68     4\n40    45    97    68     3    74\n42    44    22    23    79    47\n43    92    21    67    50    70\n44    53    42    63    11    59\n45    60    68    50     4     4\n46    44    35    66    83    81\n47    15     3    81    46    20\n48    75    39    26    50    37\n49    96    25    62    31    30",
      "text/html": "<div>\n<style scoped>\n    .dataframe tbody tr th:only-of-type {\n        vertical-align: middle;\n    }\n\n    .dataframe tbody tr th {\n        vertical-align: top;\n    }\n\n    .dataframe thead th {\n        text-align: right;\n    }\n</style>\n<table border=\"1\" class=\"dataframe\">\n  <thead>\n    <tr style=\"text-align: right;\">\n      <th></th>\n      <th>col1</th>\n      <th>col2</th>\n      <th>col3</th>\n      <th>col4</th>\n      <th>col5</th>\n    </tr>\n  </thead>\n  <tbody>\n    <tr>\n      <th>0</th>\n      <td>81</td>\n      <td>85</td>\n      <td>96</td>\n      <td>32</td>\n      <td>48</td>\n    </tr>\n    <tr>\n      <th>1</th>\n      <td>97</td>\n      <td>33</td>\n      <td>12</td>\n      <td>78</td>\n      <td>12</td>\n    </tr>\n    <tr>\n      <th>2</th>\n      <td>31</td>\n      <td>92</td>\n      <td>38</td>\n      <td>21</td>\n      <td>3</td>\n    </tr>\n    <tr>\n      <th>3</th>\n      <td>24</td>\n      <td>10</td>\n      <td>97</td>\n      <td>56</td>\n      <td>43</td>\n    </tr>\n    <tr>\n      <th>4</th>\n      <td>91</td>\n      <td>36</td>\n      <td>76</td>\n      <td>23</td>\n      <td>81</td>\n    </tr>\n    <tr>\n      <th>5</th>\n      <td>30</td>\n      <td>7</td>\n      <td>46</td>\n      <td>1</td>\n      <td>45</td>\n    </tr>\n    <tr>\n      <th>6</th>\n      <td>1</td>\n      <td>27</td>\n      <td>17</td>\n      <td>42</td>\n      <td>91</td>\n    </tr>\n    <tr>\n      <th>7</th>\n      <td>66</td>\n      <td>87</td>\n      <td>10</td>\n      <td>22</td>\n      <td>2</td>\n    </tr>\n    <tr>\n      <th>8</th>\n      <td>22</td>\n      <td>55</td>\n      <td>9</td>\n      <td>51</td>\n      <td>26</td>\n    </tr>\n    <tr>\n      <th>9</th>\n      <td>7</td>\n      <td>1</td>\n      <td>49</td>\n      <td>44</td>\n      <td>17</td>\n    </tr>\n    <tr>\n      <th>10</th>\n      <td>14</td>\n      <td>24</td>\n      <td>37</td>\n      <td>94</td>\n      <td>67</td>\n    </tr>\n    <tr>\n      <th>11</th>\n      <td>31</td>\n      <td>84</td>\n      <td>45</td>\n      <td>42</td>\n      <td>0</td>\n    </tr>\n    <tr>\n      <th>12</th>\n      <td>86</td>\n      <td>20</td>\n      <td>37</td>\n      <td>14</td>\n      <td>7</td>\n    </tr>\n    <tr>\n      <th>13</th>\n      <td>37</td>\n      <td>85</td>\n      <td>11</td>\n      <td>39</td>\n      <td>9</td>\n    </tr>\n    <tr>\n      <th>14</th>\n      <td>71</td>\n      <td>14</td>\n      <td>44</td>\n      <td>76</td>\n      <td>50</td>\n    </tr>\n    <tr>\n      <th>15</th>\n      <td>63</td>\n      <td>57</td>\n      <td>38</td>\n      <td>8</td>\n      <td>56</td>\n    </tr>\n    <tr>\n      <th>16</th>\n      <td>59</td>\n      <td>30</td>\n      <td>29</td>\n      <td>99</td>\n      <td>26</td>\n    </tr>\n    <tr>\n      <th>17</th>\n      <td>93</td>\n      <td>53</td>\n      <td>7</td>\n      <td>78</td>\n      <td>82</td>\n    </tr>\n    <tr>\n      <th>18</th>\n      <td>83</td>\n      <td>41</td>\n      <td>97</td>\n      <td>36</td>\n      <td>56</td>\n    </tr>\n    <tr>\n      <th>19</th>\n      <td>5</td>\n      <td>69</td>\n      <td>2</td>\n      <td>55</td>\n      <td>22</td>\n    </tr>\n    <tr>\n      <th>20</th>\n      <td>11</td>\n      <td>98</td>\n      <td>93</td>\n      <td>76</td>\n      <td>5</td>\n    </tr>\n    <tr>\n      <th>21</th>\n      <td>67</td>\n      <td>23</td>\n      <td>2</td>\n      <td>63</td>\n      <td>55</td>\n    </tr>\n    <tr>\n      <th>22</th>\n      <td>4</td>\n      <td>55</td>\n      <td>0</td>\n      <td>92</td>\n      <td>63</td>\n    </tr>\n    <tr>\n      <th>23</th>\n      <td>62</td>\n      <td>0</td>\n      <td>72</td>\n      <td>51</td>\n      <td>68</td>\n    </tr>\n    <tr>\n      <th>24</th>\n      <td>25</td>\n      <td>8</td>\n      <td>78</td>\n      <td>56</td>\n      <td>20</td>\n    </tr>\n    <tr>\n      <th>25</th>\n      <td>52</td>\n      <td>5</td>\n      <td>53</td>\n      <td>52</td>\n      <td>77</td>\n    </tr>\n    <tr>\n      <th>26</th>\n      <td>84</td>\n      <td>66</td>\n      <td>36</td>\n      <td>96</td>\n      <td>77</td>\n    </tr>\n    <tr>\n      <th>27</th>\n      <td>40</td>\n      <td>98</td>\n      <td>34</td>\n      <td>33</td>\n      <td>91</td>\n    </tr>\n    <tr>\n      <th>28</th>\n      <td>69</td>\n      <td>19</td>\n      <td>5</td>\n      <td>90</td>\n      <td>30</td>\n    </tr>\n    <tr>\n      <th>29</th>\n      <td>28</td>\n      <td>37</td>\n      <td>80</td>\n      <td>97</td>\n      <td>62</td>\n    </tr>\n    <tr>\n      <th>30</th>\n      <td>95</td>\n      <td>27</td>\n      <td>76</td>\n      <td>67</td>\n      <td>54</td>\n    </tr>\n    <tr>\n      <th>31</th>\n      <td>24</td>\n      <td>72</td>\n      <td>6</td>\n      <td>59</td>\n      <td>65</td>\n    </tr>\n    <tr>\n      <th>32</th>\n      <td>83</td>\n      <td>62</td>\n      <td>56</td>\n      <td>34</td>\n      <td>2</td>\n    </tr>\n    <tr>\n      <th>33</th>\n      <td>90</td>\n      <td>66</td>\n      <td>71</td>\n      <td>88</td>\n      <td>22</td>\n    </tr>\n    <tr>\n      <th>34</th>\n      <td>3</td>\n      <td>25</td>\n      <td>17</td>\n      <td>82</td>\n      <td>34</td>\n    </tr>\n    <tr>\n      <th>36</th>\n      <td>86</td>\n      <td>10</td>\n      <td>69</td>\n      <td>68</td>\n      <td>86</td>\n    </tr>\n    <tr>\n      <th>37</th>\n      <td>97</td>\n      <td>23</td>\n      <td>6</td>\n      <td>37</td>\n      <td>90</td>\n    </tr>\n    <tr>\n      <th>38</th>\n      <td>99</td>\n      <td>13</td>\n      <td>43</td>\n      <td>68</td>\n      <td>4</td>\n    </tr>\n    <tr>\n      <th>40</th>\n      <td>45</td>\n      <td>97</td>\n      <td>68</td>\n      <td>3</td>\n      <td>74</td>\n    </tr>\n    <tr>\n      <th>42</th>\n      <td>44</td>\n      <td>22</td>\n      <td>23</td>\n      <td>79</td>\n      <td>47</td>\n    </tr>\n    <tr>\n      <th>43</th>\n      <td>92</td>\n      <td>21</td>\n      <td>67</td>\n      <td>50</td>\n      <td>70</td>\n    </tr>\n    <tr>\n      <th>44</th>\n      <td>53</td>\n      <td>42</td>\n      <td>63</td>\n      <td>11</td>\n      <td>59</td>\n    </tr>\n    <tr>\n      <th>45</th>\n      <td>60</td>\n      <td>68</td>\n      <td>50</td>\n      <td>4</td>\n      <td>4</td>\n    </tr>\n    <tr>\n      <th>46</th>\n      <td>44</td>\n      <td>35</td>\n      <td>66</td>\n      <td>83</td>\n      <td>81</td>\n    </tr>\n    <tr>\n      <th>47</th>\n      <td>15</td>\n      <td>3</td>\n      <td>81</td>\n      <td>46</td>\n      <td>20</td>\n    </tr>\n    <tr>\n      <th>48</th>\n      <td>75</td>\n      <td>39</td>\n      <td>26</td>\n      <td>50</td>\n      <td>37</td>\n    </tr>\n    <tr>\n      <th>49</th>\n      <td>96</td>\n      <td>25</td>\n      <td>62</td>\n      <td>31</td>\n      <td>30</td>\n    </tr>\n  </tbody>\n</table>\n</div>"
     },
     "metadata": {},
     "execution_count": 203
    }
   ],
   "source": [
    "df.drop(df.index[[35,39,41]], inplace=True)\n",
    "df"
   ]
  },
  {
   "cell_type": "code",
   "execution_count": 204,
   "metadata": {},
   "outputs": [
    {
     "output_type": "execute_result",
     "data": {
      "text/plain": "    col1  col2  col3  col4  col5\n0     81    85    96    32    48\n1     97    33    12    78    12\n2     31    92    38    21     3\n3     24    10    97    56    43\n4     91    36    76    23    81\n5     30     7    46     1    45\n6      1    27    17    42    91\n7     66    87    10    22     2\n8     22    55     9    51    26\n9      7     1    49    44    17\n10    14    24    37    94    67\n11    31    84    45    42     0\n12    86    20    37    14     7\n13    37    85    11    39     9\n14    71    14    44    76    50\n15    63    57    38     8    56\n16    59    30    29    99    26\n17    93    53     7    78    82\n18    83    41    97    36    56\n19     5    69     2    55    22\n20    11    98    93    76     5\n21    67    23     2    63    55\n22     4    55     0    92    63\n23    62     0    72    51    68\n24    25     8    78    56    20\n25    52     5    53    52    77\n26    84    66    36    96    77\n27    40    98    34    33    91\n28    69    19     5    90    30\n29    28    37    80    97    62\n30    95    27    76    67    54\n31    24    72     6    59    65\n32    83    62    56    34     2\n33    90    66    71    88    22\n34     3    25    17    82    34\n35    86    10    69    68    86\n36    97    23     6    37    90\n37    99    13    43    68     4\n38    45    97    68     3    74\n39    44    22    23    79    47\n40    92    21    67    50    70\n41    53    42    63    11    59\n42    60    68    50     4     4\n43    44    35    66    83    81\n44    15     3    81    46    20\n45    75    39    26    50    37\n46    96    25    62    31    30",
      "text/html": "<div>\n<style scoped>\n    .dataframe tbody tr th:only-of-type {\n        vertical-align: middle;\n    }\n\n    .dataframe tbody tr th {\n        vertical-align: top;\n    }\n\n    .dataframe thead th {\n        text-align: right;\n    }\n</style>\n<table border=\"1\" class=\"dataframe\">\n  <thead>\n    <tr style=\"text-align: right;\">\n      <th></th>\n      <th>col1</th>\n      <th>col2</th>\n      <th>col3</th>\n      <th>col4</th>\n      <th>col5</th>\n    </tr>\n  </thead>\n  <tbody>\n    <tr>\n      <th>0</th>\n      <td>81</td>\n      <td>85</td>\n      <td>96</td>\n      <td>32</td>\n      <td>48</td>\n    </tr>\n    <tr>\n      <th>1</th>\n      <td>97</td>\n      <td>33</td>\n      <td>12</td>\n      <td>78</td>\n      <td>12</td>\n    </tr>\n    <tr>\n      <th>2</th>\n      <td>31</td>\n      <td>92</td>\n      <td>38</td>\n      <td>21</td>\n      <td>3</td>\n    </tr>\n    <tr>\n      <th>3</th>\n      <td>24</td>\n      <td>10</td>\n      <td>97</td>\n      <td>56</td>\n      <td>43</td>\n    </tr>\n    <tr>\n      <th>4</th>\n      <td>91</td>\n      <td>36</td>\n      <td>76</td>\n      <td>23</td>\n      <td>81</td>\n    </tr>\n    <tr>\n      <th>5</th>\n      <td>30</td>\n      <td>7</td>\n      <td>46</td>\n      <td>1</td>\n      <td>45</td>\n    </tr>\n    <tr>\n      <th>6</th>\n      <td>1</td>\n      <td>27</td>\n      <td>17</td>\n      <td>42</td>\n      <td>91</td>\n    </tr>\n    <tr>\n      <th>7</th>\n      <td>66</td>\n      <td>87</td>\n      <td>10</td>\n      <td>22</td>\n      <td>2</td>\n    </tr>\n    <tr>\n      <th>8</th>\n      <td>22</td>\n      <td>55</td>\n      <td>9</td>\n      <td>51</td>\n      <td>26</td>\n    </tr>\n    <tr>\n      <th>9</th>\n      <td>7</td>\n      <td>1</td>\n      <td>49</td>\n      <td>44</td>\n      <td>17</td>\n    </tr>\n    <tr>\n      <th>10</th>\n      <td>14</td>\n      <td>24</td>\n      <td>37</td>\n      <td>94</td>\n      <td>67</td>\n    </tr>\n    <tr>\n      <th>11</th>\n      <td>31</td>\n      <td>84</td>\n      <td>45</td>\n      <td>42</td>\n      <td>0</td>\n    </tr>\n    <tr>\n      <th>12</th>\n      <td>86</td>\n      <td>20</td>\n      <td>37</td>\n      <td>14</td>\n      <td>7</td>\n    </tr>\n    <tr>\n      <th>13</th>\n      <td>37</td>\n      <td>85</td>\n      <td>11</td>\n      <td>39</td>\n      <td>9</td>\n    </tr>\n    <tr>\n      <th>14</th>\n      <td>71</td>\n      <td>14</td>\n      <td>44</td>\n      <td>76</td>\n      <td>50</td>\n    </tr>\n    <tr>\n      <th>15</th>\n      <td>63</td>\n      <td>57</td>\n      <td>38</td>\n      <td>8</td>\n      <td>56</td>\n    </tr>\n    <tr>\n      <th>16</th>\n      <td>59</td>\n      <td>30</td>\n      <td>29</td>\n      <td>99</td>\n      <td>26</td>\n    </tr>\n    <tr>\n      <th>17</th>\n      <td>93</td>\n      <td>53</td>\n      <td>7</td>\n      <td>78</td>\n      <td>82</td>\n    </tr>\n    <tr>\n      <th>18</th>\n      <td>83</td>\n      <td>41</td>\n      <td>97</td>\n      <td>36</td>\n      <td>56</td>\n    </tr>\n    <tr>\n      <th>19</th>\n      <td>5</td>\n      <td>69</td>\n      <td>2</td>\n      <td>55</td>\n      <td>22</td>\n    </tr>\n    <tr>\n      <th>20</th>\n      <td>11</td>\n      <td>98</td>\n      <td>93</td>\n      <td>76</td>\n      <td>5</td>\n    </tr>\n    <tr>\n      <th>21</th>\n      <td>67</td>\n      <td>23</td>\n      <td>2</td>\n      <td>63</td>\n      <td>55</td>\n    </tr>\n    <tr>\n      <th>22</th>\n      <td>4</td>\n      <td>55</td>\n      <td>0</td>\n      <td>92</td>\n      <td>63</td>\n    </tr>\n    <tr>\n      <th>23</th>\n      <td>62</td>\n      <td>0</td>\n      <td>72</td>\n      <td>51</td>\n      <td>68</td>\n    </tr>\n    <tr>\n      <th>24</th>\n      <td>25</td>\n      <td>8</td>\n      <td>78</td>\n      <td>56</td>\n      <td>20</td>\n    </tr>\n    <tr>\n      <th>25</th>\n      <td>52</td>\n      <td>5</td>\n      <td>53</td>\n      <td>52</td>\n      <td>77</td>\n    </tr>\n    <tr>\n      <th>26</th>\n      <td>84</td>\n      <td>66</td>\n      <td>36</td>\n      <td>96</td>\n      <td>77</td>\n    </tr>\n    <tr>\n      <th>27</th>\n      <td>40</td>\n      <td>98</td>\n      <td>34</td>\n      <td>33</td>\n      <td>91</td>\n    </tr>\n    <tr>\n      <th>28</th>\n      <td>69</td>\n      <td>19</td>\n      <td>5</td>\n      <td>90</td>\n      <td>30</td>\n    </tr>\n    <tr>\n      <th>29</th>\n      <td>28</td>\n      <td>37</td>\n      <td>80</td>\n      <td>97</td>\n      <td>62</td>\n    </tr>\n    <tr>\n      <th>30</th>\n      <td>95</td>\n      <td>27</td>\n      <td>76</td>\n      <td>67</td>\n      <td>54</td>\n    </tr>\n    <tr>\n      <th>31</th>\n      <td>24</td>\n      <td>72</td>\n      <td>6</td>\n      <td>59</td>\n      <td>65</td>\n    </tr>\n    <tr>\n      <th>32</th>\n      <td>83</td>\n      <td>62</td>\n      <td>56</td>\n      <td>34</td>\n      <td>2</td>\n    </tr>\n    <tr>\n      <th>33</th>\n      <td>90</td>\n      <td>66</td>\n      <td>71</td>\n      <td>88</td>\n      <td>22</td>\n    </tr>\n    <tr>\n      <th>34</th>\n      <td>3</td>\n      <td>25</td>\n      <td>17</td>\n      <td>82</td>\n      <td>34</td>\n    </tr>\n    <tr>\n      <th>35</th>\n      <td>86</td>\n      <td>10</td>\n      <td>69</td>\n      <td>68</td>\n      <td>86</td>\n    </tr>\n    <tr>\n      <th>36</th>\n      <td>97</td>\n      <td>23</td>\n      <td>6</td>\n      <td>37</td>\n      <td>90</td>\n    </tr>\n    <tr>\n      <th>37</th>\n      <td>99</td>\n      <td>13</td>\n      <td>43</td>\n      <td>68</td>\n      <td>4</td>\n    </tr>\n    <tr>\n      <th>38</th>\n      <td>45</td>\n      <td>97</td>\n      <td>68</td>\n      <td>3</td>\n      <td>74</td>\n    </tr>\n    <tr>\n      <th>39</th>\n      <td>44</td>\n      <td>22</td>\n      <td>23</td>\n      <td>79</td>\n      <td>47</td>\n    </tr>\n    <tr>\n      <th>40</th>\n      <td>92</td>\n      <td>21</td>\n      <td>67</td>\n      <td>50</td>\n      <td>70</td>\n    </tr>\n    <tr>\n      <th>41</th>\n      <td>53</td>\n      <td>42</td>\n      <td>63</td>\n      <td>11</td>\n      <td>59</td>\n    </tr>\n    <tr>\n      <th>42</th>\n      <td>60</td>\n      <td>68</td>\n      <td>50</td>\n      <td>4</td>\n      <td>4</td>\n    </tr>\n    <tr>\n      <th>43</th>\n      <td>44</td>\n      <td>35</td>\n      <td>66</td>\n      <td>83</td>\n      <td>81</td>\n    </tr>\n    <tr>\n      <th>44</th>\n      <td>15</td>\n      <td>3</td>\n      <td>81</td>\n      <td>46</td>\n      <td>20</td>\n    </tr>\n    <tr>\n      <th>45</th>\n      <td>75</td>\n      <td>39</td>\n      <td>26</td>\n      <td>50</td>\n      <td>37</td>\n    </tr>\n    <tr>\n      <th>46</th>\n      <td>96</td>\n      <td>25</td>\n      <td>62</td>\n      <td>31</td>\n      <td>30</td>\n    </tr>\n  </tbody>\n</table>\n</div>"
     },
     "metadata": {},
     "execution_count": 204
    }
   ],
   "source": [
    "df.reset_index(drop=True)"
   ]
  },
  {
   "cell_type": "markdown",
   "metadata": {},
   "source": [
    "# Exercise 3"
   ]
  },
  {
   "cell_type": "code",
   "execution_count": null,
   "metadata": {},
   "outputs": [],
   "source": []
  }
 ]
}