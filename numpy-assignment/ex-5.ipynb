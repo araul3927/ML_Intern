{
 "metadata": {
  "language_info": {
   "codemirror_mode": {
    "name": "ipython",
    "version": 3
   },
   "file_extension": ".py",
   "mimetype": "text/x-python",
   "name": "python",
   "nbconvert_exporter": "python",
   "pygments_lexer": "ipython3",
   "version": "3.9.5-final"
  },
  "orig_nbformat": 2,
  "kernelspec": {
   "name": "python39564bitmltraineevenv9b95c2ac1a7547099d0445dfbdb73c4f",
   "display_name": "Python 3.9.5 64-bit ('ml_trainee': venv)"
  }
 },
 "nbformat": 4,
 "nbformat_minor": 2,
 "cells": [
  {
   "cell_type": "code",
   "execution_count": 8,
   "metadata": {},
   "outputs": [
    {
     "output_type": "execute_result",
     "data": {
      "text/plain": "12"
     },
     "metadata": {},
     "execution_count": 8
    }
   ],
   "source": [
    "import numpy as np\n",
    "\n",
    "mat = np.array([[12,20,30,0],\n",
    "                [8,12,2,0],\n",
    "                [34,70,37,4],\n",
    "                [112,100,25,12]])\n",
    "\n",
    "mat_red = mat[0:2, 0:2]\n",
    "mat_yellow = mat[0:2, 2:4]\n",
    "mat_blue = mat[2:4, 0:2]\n",
    "mat_green = mat[2:4, 2:4]"
   ]
  },
  {
   "cell_type": "code",
   "execution_count": null,
   "metadata": {},
   "outputs": [],
   "source": [
    "unique_element = np.unique(mat)     #unique elements\n",
    "unique_element.size                 #number of unique elements\n",
    "np.amax(mat)                        #max element in array\n",
    "np.amin(mat)                        #min element in array\n",
    "np.argmax(mat)                      #index of max element in array\n",
    "np.argmin(mat)                      #index of min element in array\n",
    "np.mean(mat)                        #mean of an array\n",
    "np.std(mat)                         #standard deviation of an array"
   ]
  },
  {
   "cell_type": "code",
   "execution_count": 13,
   "metadata": {},
   "outputs": [
    {
     "output_type": "execute_result",
     "data": {
      "text/plain": "array([15.5 ,  5.5 , 36.25, 62.25])"
     },
     "metadata": {},
     "execution_count": 13
    }
   ],
   "source": [
    "np.sum(mat, axis = 0)       #sum of array columnwise\n",
    "np.sum(mat, axis = 1)       #sum of array rowwise\n",
    "np.amax(mat, axis = 0)      #max element columnwise\n",
    "np.amax(mat, axis = 1)      #max element rowwise\n",
    "np.mean(mat, axis = 0)      #average of array columnwise\n",
    "np.mean(mat, axis = 1)      #average of array rowwise\n",
    "\n",
    "mat.astype('float64')\n",
    "mat.astype('object')"
   ]
  },
  {
   "cell_type": "code",
   "execution_count": 30,
   "metadata": {},
   "outputs": [
    {
     "output_type": "execute_result",
     "data": {
      "text/plain": "array([[0.10714286, 0.17857143, 0.26785714, 0.        ],\n       [0.07142857, 0.10714286, 0.01785714, 0.        ],\n       [0.30357143, 0.625     , 0.33035714, 0.03571429],\n       [1.        , 0.89285714, 0.22321429, 0.10714286]])"
     },
     "metadata": {},
     "execution_count": 30
    }
   ],
   "source": [
    "def normalization(mat):\n",
    "    range = np.max(mat) - np.min(mat)\n",
    "    return (mat - np.min(mat)) / range\n",
    " \n",
    " \n",
    "def standardization(mat):\n",
    "    mu = np.mean(mat, axis=0)\n",
    "    sigma = np.std(mat, axis=0)\n",
    "    return (mat - mu) / sigma\n",
    "\n",
    "normalization(mat)\n",
    "standardization(mat)"
   ]
  },
  {
   "cell_type": "code",
   "execution_count": null,
   "metadata": {},
   "outputs": [],
   "source": []
  }
 ]
}