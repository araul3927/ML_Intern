{
 "metadata": {
  "language_info": {
   "codemirror_mode": {
    "name": "ipython",
    "version": 3
   },
   "file_extension": ".py",
   "mimetype": "text/x-python",
   "name": "python",
   "nbconvert_exporter": "python",
   "pygments_lexer": "ipython3",
   "version": "3.9.5-final"
  },
  "orig_nbformat": 2,
  "kernelspec": {
   "name": "python39564bitmltraineevenv9b95c2ac1a7547099d0445dfbdb73c4f",
   "display_name": "Python 3.9.5 64-bit ('ml_trainee': venv)"
  }
 },
 "nbformat": 4,
 "nbformat_minor": 2,
 "cells": [
  {
   "cell_type": "code",
   "execution_count": 2,
   "metadata": {},
   "outputs": [],
   "source": [
    "import numpy as np"
   ]
  },
  {
   "cell_type": "code",
   "execution_count": 15,
   "metadata": {},
   "outputs": [
    {
     "output_type": "execute_result",
     "data": {
      "text/plain": "array([[0, 0, 0, 0, 0, 0, 0, 0],\n       [1, 1, 1, 1, 1, 1, 1, 1],\n       [2, 2, 2, 2, 2, 2, 2, 2],\n       [3, 3, 3, 3, 3, 3, 3, 3],\n       [4, 4, 4, 4, 4, 4, 4, 4],\n       [5, 5, 5, 5, 5, 5, 5, 5],\n       [6, 6, 6, 6, 6, 6, 6, 6],\n       [7, 7, 7, 7, 7, 7, 7, 7]])"
     },
     "metadata": {},
     "execution_count": 15
    }
   ],
   "source": [
    "array_8 = np.arange(8)\n",
    "array_8.shape \n",
    "\n",
    "array_8 + np.zeros((8,8), dtype = int)\n",
    "\n",
    "array_8.resize(1,8)\n",
    "array_8 + np.zeros((8,8), dtype = int)\n",
    "\n",
    "array_8.resize(8,1)\n",
    "array_8 + np.zeros((8,8), dtype = int)"
   ]
  },
  {
   "cell_type": "markdown",
   "metadata": {},
   "source": [
    "- the shape of array is (8,)\n",
    "\n",
    "- if we add array to 8x8 matrix we get 8x8 matrix with addition of each row of 8x8 matrix with initial array\n",
    "\n",
    "- we get same result after reshaping it to 1x8 and adding with 8x8 matrix\n",
    "\n",
    "- if we reshape it to 8x1 and add to 8x8 matrix we get matrix of 8x8 with addition of each column of 8x8 matrix with 8x1 matrix"
   ]
  },
  {
   "cell_type": "code",
   "execution_count": null,
   "metadata": {},
   "outputs": [],
   "source": []
  }
 ]
}