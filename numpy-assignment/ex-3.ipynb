{
 "metadata": {
  "language_info": {
   "codemirror_mode": {
    "name": "ipython",
    "version": 3
   },
   "file_extension": ".py",
   "mimetype": "text/x-python",
   "name": "python",
   "nbconvert_exporter": "python",
   "pygments_lexer": "ipython3",
   "version": "3.9.5-final"
  },
  "orig_nbformat": 2,
  "kernelspec": {
   "name": "python39564bitmltraineevenv9b95c2ac1a7547099d0445dfbdb73c4f",
   "display_name": "Python 3.9.5 64-bit ('ml_trainee': venv)"
  }
 },
 "nbformat": 4,
 "nbformat_minor": 2,
 "cells": [
  {
   "cell_type": "code",
   "execution_count": 12,
   "metadata": {},
   "outputs": [
    {
     "output_type": "execute_result",
     "data": {
      "text/plain": "array([[7, 5, 9, 7],\n       [8, 5, 7, 7],\n       [1, 1, 4, 3],\n       [4, 3, 9, 4]])"
     },
     "metadata": {},
     "execution_count": 12
    }
   ],
   "source": [
    "import numpy as np\n",
    "\n",
    "array_4x4 = np.random.randint(1,10,(4,4))\n",
    "\n",
    "array_6x6 = np.pad(array_4x4, ((1, 1), (1, 1)), 'constant')\n",
    "\n",
    "array_4x4 = array_6x6[1:5, 1:5]\n",
    "array_4x4 \n"
   ]
  },
  {
   "cell_type": "code",
   "execution_count": null,
   "metadata": {},
   "outputs": [],
   "source": []
  }
 ]
}