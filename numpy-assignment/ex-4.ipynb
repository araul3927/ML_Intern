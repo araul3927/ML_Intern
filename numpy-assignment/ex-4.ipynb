{
 "metadata": {
  "language_info": {
   "codemirror_mode": {
    "name": "ipython",
    "version": 3
   },
   "file_extension": ".py",
   "mimetype": "text/x-python",
   "name": "python",
   "nbconvert_exporter": "python",
   "pygments_lexer": "ipython3",
   "version": "3.9.5-final"
  },
  "orig_nbformat": 2,
  "kernelspec": {
   "name": "python39564bitmltraineevenv9b95c2ac1a7547099d0445dfbdb73c4f",
   "display_name": "Python 3.9.5 64-bit ('ml_trainee': venv)"
  }
 },
 "nbformat": 4,
 "nbformat_minor": 2,
 "cells": [
  {
   "cell_type": "code",
   "execution_count": 4,
   "metadata": {},
   "outputs": [
    {
     "output_type": "execute_result",
     "data": {
      "text/plain": "array([[260, 424, 412, 224],\n       [424, 724, 720, 412],\n       [412, 720, 724, 424],\n       [224, 412, 424, 260]])"
     },
     "metadata": {},
     "execution_count": 4
    }
   ],
   "source": [
    "import numpy as np\n",
    "\n",
    "matrix_one = np.array([[1,2],\n",
    "                    [3,4],\n",
    "                    [5,6],\n",
    "                    [7,8]])\n",
    "matrix_two = np.array([[8,7],\n",
    "                    [6,5],\n",
    "                    [4,3],\n",
    "                    [2,1]])\n",
    "\n",
    "one_x_two = np.multiply(matrix_one,matrix_two)\n",
    "\n",
    "transpose_one_x_two = np.transpose(one_x_two)\n",
    "\n",
    "mul_matrix = np.matmul(one_x_two,transpose_one_x_two)\n",
    "mul_matrix"
   ]
  },
  {
   "cell_type": "code",
   "execution_count": null,
   "metadata": {},
   "outputs": [],
   "source": []
  }
 ]
}