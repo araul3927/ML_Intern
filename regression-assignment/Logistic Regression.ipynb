{
 "cells": [
  {
   "cell_type": "code",
   "execution_count": 226,
   "metadata": {
    "ExecuteTime": {
     "end_time": "2021-06-09T13:06:28.433586Z",
     "start_time": "2021-06-09T13:06:28.296907Z"
    }
   },
   "outputs": [],
   "source": [
    "import numpy as np\n",
    "import pandas as pd \n",
    "\n",
    "import matplotlib.pyplot as plt  \n",
    "import seaborn as sns"
   ]
  },
  {
   "cell_type": "markdown",
   "metadata": {},
   "source": [
    "# Implement Logistic Regression"
   ]
  },
  {
   "cell_type": "markdown",
   "metadata": {},
   "source": [
    "This will be helpful to further familiarize yourself with Numpy and how Logistic Regression actually works.\n",
    "If you face any problems, feel free to contact us in Slack"
   ]
  },
  {
   "cell_type": "markdown",
   "metadata": {},
   "source": [
    "### Load the breast cancer dataset (from sklearn)"
   ]
  },
  {
   "cell_type": "code",
   "execution_count": 227,
   "metadata": {
    "ExecuteTime": {
     "end_time": "2021-06-09T12:42:06.585347Z",
     "start_time": "2021-06-09T12:42:06.577169Z"
    }
   },
   "outputs": [
    {
     "output_type": "execute_result",
     "data": {
      "text/plain": "   mean texture  mean perimeter  mean area  mean smoothness  mean compactness  \\\n0         10.38          122.80     1001.0          0.11840           0.27760   \n1         17.77          132.90     1326.0          0.08474           0.07864   \n2         21.25          130.00     1203.0          0.10960           0.15990   \n3         20.38           77.58      386.1          0.14250           0.28390   \n4         14.34          135.10     1297.0          0.10030           0.13280   \n\n   mean concavity  mean concave points  mean symmetry  mean fractal dimension  \\\n0          0.3001              0.14710         0.2419                 0.07871   \n1          0.0869              0.07017         0.1812                 0.05667   \n2          0.1974              0.12790         0.2069                 0.05999   \n3          0.2414              0.10520         0.2597                 0.09744   \n4          0.1980              0.10430         0.1809                 0.05883   \n\n   radius error  ...  fractal dimension error  worst radius  worst texture  \\\n0        1.0950  ...                 0.006193         25.38          17.33   \n1        0.5435  ...                 0.003532         24.99          23.41   \n2        0.7456  ...                 0.004571         23.57          25.53   \n3        0.4956  ...                 0.009208         14.91          26.50   \n4        0.7572  ...                 0.005115         22.54          16.67   \n\n   worst perimeter  worst area  worst smoothness  worst compactness  \\\n0           184.60      2019.0            0.1622             0.6656   \n1           158.80      1956.0            0.1238             0.1866   \n2           152.50      1709.0            0.1444             0.4245   \n3            98.87       567.7            0.2098             0.8663   \n4           152.20      1575.0            0.1374             0.2050   \n\n   worst concavity  worst concave points  worst symmetry  \n0           0.7119                0.2654          0.4601  \n1           0.2416                0.1860          0.2750  \n2           0.4504                0.2430          0.3613  \n3           0.6869                0.2575          0.6638  \n4           0.4000                0.1625          0.2364  \n\n[5 rows x 28 columns]",
      "text/html": "<div>\n<style scoped>\n    .dataframe tbody tr th:only-of-type {\n        vertical-align: middle;\n    }\n\n    .dataframe tbody tr th {\n        vertical-align: top;\n    }\n\n    .dataframe thead th {\n        text-align: right;\n    }\n</style>\n<table border=\"1\" class=\"dataframe\">\n  <thead>\n    <tr style=\"text-align: right;\">\n      <th></th>\n      <th>mean texture</th>\n      <th>mean perimeter</th>\n      <th>mean area</th>\n      <th>mean smoothness</th>\n      <th>mean compactness</th>\n      <th>mean concavity</th>\n      <th>mean concave points</th>\n      <th>mean symmetry</th>\n      <th>mean fractal dimension</th>\n      <th>radius error</th>\n      <th>...</th>\n      <th>fractal dimension error</th>\n      <th>worst radius</th>\n      <th>worst texture</th>\n      <th>worst perimeter</th>\n      <th>worst area</th>\n      <th>worst smoothness</th>\n      <th>worst compactness</th>\n      <th>worst concavity</th>\n      <th>worst concave points</th>\n      <th>worst symmetry</th>\n    </tr>\n  </thead>\n  <tbody>\n    <tr>\n      <th>0</th>\n      <td>10.38</td>\n      <td>122.80</td>\n      <td>1001.0</td>\n      <td>0.11840</td>\n      <td>0.27760</td>\n      <td>0.3001</td>\n      <td>0.14710</td>\n      <td>0.2419</td>\n      <td>0.07871</td>\n      <td>1.0950</td>\n      <td>...</td>\n      <td>0.006193</td>\n      <td>25.38</td>\n      <td>17.33</td>\n      <td>184.60</td>\n      <td>2019.0</td>\n      <td>0.1622</td>\n      <td>0.6656</td>\n      <td>0.7119</td>\n      <td>0.2654</td>\n      <td>0.4601</td>\n    </tr>\n    <tr>\n      <th>1</th>\n      <td>17.77</td>\n      <td>132.90</td>\n      <td>1326.0</td>\n      <td>0.08474</td>\n      <td>0.07864</td>\n      <td>0.0869</td>\n      <td>0.07017</td>\n      <td>0.1812</td>\n      <td>0.05667</td>\n      <td>0.5435</td>\n      <td>...</td>\n      <td>0.003532</td>\n      <td>24.99</td>\n      <td>23.41</td>\n      <td>158.80</td>\n      <td>1956.0</td>\n      <td>0.1238</td>\n      <td>0.1866</td>\n      <td>0.2416</td>\n      <td>0.1860</td>\n      <td>0.2750</td>\n    </tr>\n    <tr>\n      <th>2</th>\n      <td>21.25</td>\n      <td>130.00</td>\n      <td>1203.0</td>\n      <td>0.10960</td>\n      <td>0.15990</td>\n      <td>0.1974</td>\n      <td>0.12790</td>\n      <td>0.2069</td>\n      <td>0.05999</td>\n      <td>0.7456</td>\n      <td>...</td>\n      <td>0.004571</td>\n      <td>23.57</td>\n      <td>25.53</td>\n      <td>152.50</td>\n      <td>1709.0</td>\n      <td>0.1444</td>\n      <td>0.4245</td>\n      <td>0.4504</td>\n      <td>0.2430</td>\n      <td>0.3613</td>\n    </tr>\n    <tr>\n      <th>3</th>\n      <td>20.38</td>\n      <td>77.58</td>\n      <td>386.1</td>\n      <td>0.14250</td>\n      <td>0.28390</td>\n      <td>0.2414</td>\n      <td>0.10520</td>\n      <td>0.2597</td>\n      <td>0.09744</td>\n      <td>0.4956</td>\n      <td>...</td>\n      <td>0.009208</td>\n      <td>14.91</td>\n      <td>26.50</td>\n      <td>98.87</td>\n      <td>567.7</td>\n      <td>0.2098</td>\n      <td>0.8663</td>\n      <td>0.6869</td>\n      <td>0.2575</td>\n      <td>0.6638</td>\n    </tr>\n    <tr>\n      <th>4</th>\n      <td>14.34</td>\n      <td>135.10</td>\n      <td>1297.0</td>\n      <td>0.10030</td>\n      <td>0.13280</td>\n      <td>0.1980</td>\n      <td>0.10430</td>\n      <td>0.1809</td>\n      <td>0.05883</td>\n      <td>0.7572</td>\n      <td>...</td>\n      <td>0.005115</td>\n      <td>22.54</td>\n      <td>16.67</td>\n      <td>152.20</td>\n      <td>1575.0</td>\n      <td>0.1374</td>\n      <td>0.2050</td>\n      <td>0.4000</td>\n      <td>0.1625</td>\n      <td>0.2364</td>\n    </tr>\n  </tbody>\n</table>\n<p>5 rows × 28 columns</p>\n</div>"
     },
     "metadata": {},
     "execution_count": 227
    }
   ],
   "source": [
    "from sklearn.datasets import load_breast_cancer\n",
    "breast_cancer_dataset = load_breast_cancer()\n",
    "\n",
    "breast_cancer = pd.DataFrame(breast_cancer_dataset.data, columns = breast_cancer_dataset.feature_names)\n",
    "\n",
    "breast_cancer.drop(breast_cancer.columns[[-1, 0]], axis=1, inplace=True)\n",
    "breast_cancer.head()"
   ]
  },
  {
   "cell_type": "code",
   "execution_count": 228,
   "metadata": {
    "ExecuteTime": {
     "end_time": "2021-06-09T12:42:07.291757Z",
     "start_time": "2021-06-09T12:42:07.285931Z"
    }
   },
   "outputs": [],
   "source": [
    "breast_cancer['class'] = breast_cancer_dataset.target\n",
    "\n",
    "X = breast_cancer.drop('class', axis=1)\n",
    "y = breast_cancer['class']"
   ]
  },
  {
   "cell_type": "markdown",
   "metadata": {},
   "source": [
    "### Train test split"
   ]
  },
  {
   "cell_type": "code",
   "execution_count": 229,
   "metadata": {
    "tags": []
   },
   "outputs": [
    {
     "output_type": "stream",
     "name": "stdout",
     "text": "(398, 28)\n(171, 28)\n(398,)\n(171,)\n"
    }
   ],
   "source": [
    "from sklearn.model_selection import train_test_split\n",
    "\n",
    "X_train, X_test, y_train, y_test = train_test_split(X,y, test_size = 0.3, random_state = 4)\n",
    "print(X_train.shape)\n",
    "print(X_test.shape)\n",
    "print(y_train.shape)\n",
    "print(y_test.shape)"
   ]
  },
  {
   "cell_type": "markdown",
   "metadata": {},
   "source": [
    "### Apply feature scaling on the data"
   ]
  },
  {
   "cell_type": "code",
   "execution_count": 230,
   "metadata": {
    "ExecuteTime": {
     "end_time": "2021-06-09T12:42:09.129434Z",
     "start_time": "2021-06-09T12:42:09.121016Z"
    }
   },
   "outputs": [],
   "source": [
    "# def normalization(X,features):\n",
    "#     for feature in features:\n",
    "#         minimum = min(X[feature])\n",
    "#         maximum = max(X[feature])\n",
    "#         X[feature] = (X[feature] -minimum) / (maximum - minimum)\n",
    "#     return X\n",
    "# features_train = X_train.columns\n",
    "# X_train = normalization(X_train,features_train)\n",
    "\n",
    "# features_test = X_test.columns\n",
    "# X_test = normalization(X_test,features_test)\n",
    "\n",
    "from sklearn.preprocessing import MinMaxScaler\n",
    "\n",
    "scaler = MinMaxScaler()\n",
    "X_train = scaler.fit_transform(X_train)\n",
    "X_test = scaler.transform(X_test)"
   ]
  },
  {
   "cell_type": "markdown",
   "metadata": {},
   "source": [
    "### Define the Parameters (W or Θ) here\n",
    "Create an appropriate shape numpy array for W"
   ]
  },
  {
   "cell_type": "code",
   "execution_count": 231,
   "metadata": {
    "ExecuteTime": {
     "end_time": "2021-06-09T12:42:17.483898Z",
     "start_time": "2021-06-09T12:42:17.479146Z"
    }
   },
   "outputs": [
    {
     "output_type": "execute_result",
     "data": {
      "text/plain": "(28,)"
     },
     "metadata": {},
     "execution_count": 231
    }
   ],
   "source": [
    "w = np.random.uniform(-1, 1, X_train.shape[1])\n",
    "lr =  0.1\n",
    "w.shape"
   ]
  },
  {
   "attachments": {
    "image.png": {
     "image/png": "[encoded data removed]"
    }
   },
   "cell_type": "markdown",
   "metadata": {},
   "source": [
    "### Define sigmoid and its derivative\n",
    "![image.png](attachment:image.png)"
   ]
  },
  {
   "cell_type": "code",
   "execution_count": 232,
   "metadata": {
    "ExecuteTime": {
     "end_time": "2021-06-09T13:06:30.556499Z",
     "start_time": "2021-06-09T13:06:30.546273Z"
    }
   },
   "outputs": [],
   "source": [
    "def sigmoid(z):\n",
    "    # Apply sigmoid to X and return \n",
    "    return 1.0 / (1 + np.exp(-z))"
   ]
  },
  {
   "cell_type": "markdown",
   "metadata": {},
   "source": [
    "### Prediction methods"
   ]
  },
  {
   "cell_type": "code",
   "execution_count": 233,
   "metadata": {
    "ExecuteTime": {
     "end_time": "2021-06-09T13:02:43.868900Z",
     "start_time": "2021-06-09T13:02:43.861414Z"
    }
   },
   "outputs": [],
   "source": [
    "def predict_prob(X, w):\n",
    "    # Return the class probabilities here\n",
    "    z = np.dot(X, w)\n",
    "    return sigmoid(z)\n",
    "\n"
   ]
  },
  {
   "attachments": {
    "image.png": {
     "image/png": "[encoded data removed]"
    }
   },
   "cell_type": "markdown",
   "metadata": {},
   "source": [
    "### Define the Cross entropy loss function\n",
    "\n",
    "![image.png](attachment:image.png)"
   ]
  },
  {
   "cell_type": "code",
   "execution_count": 234,
   "metadata": {
    "ExecuteTime": {
     "end_time": "2021-06-09T12:45:11.548167Z",
     "start_time": "2021-06-09T12:45:11.536323Z"
    }
   },
   "outputs": [],
   "source": [
    "# Code here\n",
    "def binary_cross_entropy(y, yhat):\n",
    "    m = y.shape[0]\n",
    "\n",
    "    #Take the error when label=1\n",
    "    class1_cost = -y*np.log(yhat)\n",
    "\n",
    "    #Take the error when label=0\n",
    "    class2_cost = (1-y)*np.log(1-yhat)\n",
    "\n",
    "    #Take the sum of both costs\n",
    "    cost = class1_cost - class2_cost\n",
    "\n",
    "    #Take the average cost\n",
    "    cost = cost.sum() / m\n",
    "\n",
    "    return cost"
   ]
  },
  {
   "cell_type": "code",
   "execution_count": 235,
   "metadata": {
    "ExecuteTime": {
     "end_time": "2021-06-08T03:10:49.247090Z",
     "start_time": "2021-06-08T03:10:49.212Z"
    },
    "tags": []
   },
   "outputs": [
    {
     "output_type": "stream",
     "name": "stdout",
     "text": "[0.35346144 0.5881523  0.53533961 0.58309869 0.49972132 0.46658715\n 0.60889257 0.46465644 0.56380568 0.4272571  0.58448074 0.47796746\n 0.45005328 0.53969856 0.43565021 0.49030194 0.51621404 0.4513125\n 0.50330264 0.55444882 0.54060511 0.49001199 0.5715558  0.49799108\n 0.43930351 0.41110075 0.52069881 0.48990502 0.41592436 0.47627266\n 0.54618167 0.31753919 0.52327388 0.36543104 0.51378439 0.59983365\n 0.47609249 0.47257916 0.52868028 0.47304302 0.53442531 0.47732753\n 0.6032263  0.61966052 0.48681178 0.49104352 0.48968033 0.51155391\n 0.42371648 0.61636841 0.42043132 0.5848909  0.47267614 0.50032678\n 0.59471153 0.48091425 0.50293395 0.63832915 0.45611197 0.403567\n 0.44204067 0.48310452 0.64395722 0.47539803 0.54167949 0.5143578\n 0.586672   0.42361784 0.4565788  0.38758601 0.57424803 0.45853857\n 0.51782435 0.40671577 0.49316197 0.44044215 0.37616488 0.51579543\n 0.62400595 0.68335058 0.49878855 0.4946775  0.55966345 0.4584117\n 0.38415569 0.49939176 0.41476081 0.41411402 0.57525629 0.39763995\n 0.46953269 0.55187104 0.48172018 0.44060875 0.54933874 0.53359541\n 0.56003836 0.5373846  0.55659163 0.51438322 0.66698685 0.45419982\n 0.54445486 0.44825234 0.56705168 0.44994614 0.49771097 0.56131643\n 0.44215408 0.38821162 0.48734395 0.51624695 0.47206685 0.45673534\n 0.44124754 0.47743515 0.46608967 0.44487697 0.43784885 0.42980136\n 0.50134584 0.47770481 0.53669924 0.44582964 0.52484847 0.5129171\n 0.49693175 0.52336019 0.4303028  0.42896231 0.50815439 0.43410878\n 0.43628596 0.4278054  0.46937635 0.45671629 0.47089088 0.50254639\n 0.51353594 0.46163913 0.45291435 0.53577459 0.45246465 0.5329759\n 0.41345932 0.4842084  0.38299715 0.57660367 0.58365284 0.4742083\n 0.55801604 0.50223203 0.4041059  0.47521753 0.47731702 0.51026574\n 0.44935575 0.52113032 0.47319444 0.50172819 0.49049351 0.4920661\n 0.48619483 0.56268322 0.52856677 0.49603587 0.41559234 0.50103406\n 0.54910191 0.50804703 0.48858149 0.4969845  0.49949459 0.48639529\n 0.55016049 0.51099278 0.44076979 0.4635243  0.34565609 0.52320418\n 0.42785363 0.40911782 0.55858078 0.41861968 0.53083514 0.55504739\n 0.47657135 0.41166619 0.45360976 0.44498686 0.49865805 0.45322685\n 0.47357845 0.44474432 0.34599626 0.44714522 0.43342395 0.49265048\n 0.50161742 0.56427839 0.51933825 0.53607287 0.59799311 0.47706636\n 0.59163155 0.55788409 0.55199677 0.52503972 0.52837346 0.51728399\n 0.46675064 0.56195001 0.59255513 0.5852436  0.40780983 0.44288196\n 0.62216285 0.50645752 0.60888909 0.50078533 0.45682732 0.53456607\n 0.51136221 0.50435081 0.51923668 0.47359103 0.68827282 0.56080647\n 0.48443917 0.47776961 0.65786877 0.56343274 0.49149377 0.54520977\n 0.50196485 0.56309487 0.47745445 0.45932898 0.50768726 0.5293514\n 0.57954301 0.53115265 0.43199589 0.44492777 0.47999284 0.54419987\n 0.50316818 0.52510745 0.45438256 0.46206762 0.50905263 0.46475206\n 0.42132755 0.54753539 0.39599065 0.49112244 0.43302408 0.43465864\n 0.56055553 0.46773291 0.4965995  0.53419215 0.35344197 0.48422767\n 0.57399911 0.57724272 0.50323976 0.57465283 0.51026371 0.51888656\n 0.49797111 0.45613217 0.46158839 0.38856607 0.5499101  0.53722332\n 0.53232417 0.43828384 0.49855456 0.45424912 0.58613022 0.47759846\n 0.5390608  0.72600113 0.46763567 0.51899007 0.40741686 0.48786702\n 0.59625203 0.59071487 0.55258487 0.46798764 0.54845474 0.38484338\n 0.44029194 0.505922   0.4319355  0.41603517 0.60042716 0.50933266\n 0.46416516 0.46230528 0.41852909 0.55129103 0.54918882 0.54501258\n 0.53353493 0.48144469 0.47185276 0.41624683 0.4234012  0.48612135\n 0.39826229 0.53868499 0.49518945 0.57144744 0.68677555 0.48336423\n 0.52522494 0.62637078 0.46167955 0.34731586 0.42860114 0.45357132\n 0.47483167 0.47907705 0.49718048 0.49850977 0.44300836 0.59993595\n 0.55840478 0.63966543 0.46094189 0.53136624 0.47038865 0.46287391\n 0.5132541  0.43236167 0.53119027 0.49855797 0.4165023  0.50871486\n 0.41150638 0.43186562 0.54189652 0.45383205 0.47485241 0.53775704\n 0.48513052 0.56504504 0.55786635 0.4348895  0.73102621 0.49748955\n 0.37389529 0.55290292 0.40291492 0.4262049  0.44755438 0.48492028\n 0.47624543 0.48889879 0.61279541 0.53365719 0.64339245 0.48934126\n 0.4720986  0.55494047 0.45904773 0.52073313 0.56956351 0.49994687\n 0.6199617  0.38910821 0.54780723 0.41363572 0.59849509 0.4626141\n 0.5057859  0.40944386 0.47075132 0.5210889  0.59125388 0.39935733\n 0.5726847  0.57394601 0.5111746  0.4534333  0.508344   0.59805978\n 0.41309375 0.56862762 0.55372536 0.50107052 0.54163428 0.4823445\n 0.60590428 0.50535484]\n"
    }
   ],
   "source": [
    "yhat = predict_prob(X_train, w)\n",
    "print(yhat)"
   ]
  },
  {
   "cell_type": "code",
   "execution_count": 236,
   "metadata": {
    "ExecuteTime": {
     "end_time": "2021-06-08T03:10:49.248996Z",
     "start_time": "2021-06-08T03:10:49.216Z"
    },
    "tags": []
   },
   "outputs": [
    {
     "output_type": "stream",
     "name": "stdout",
     "text": "0.7002210523021832\n"
    }
   ],
   "source": [
    "loss = binary_cross_entropy(y_train, yhat)\n",
    "print(loss)"
   ]
  },
  {
   "cell_type": "markdown",
   "metadata": {},
   "source": [
    "# Solve using Gradient Descent"
   ]
  },
  {
   "cell_type": "markdown",
   "metadata": {},
   "source": [
    "### Calculate gradient\n",
    "For practice, you can try to derive the gradient using pen and paper"
   ]
  },
  {
   "cell_type": "code",
   "execution_count": 237,
   "metadata": {
    "ExecuteTime": {
     "end_time": "2021-06-08T03:10:49.252566Z",
     "start_time": "2021-06-08T03:10:49.204031Z"
    }
   },
   "outputs": [],
   "source": [
    "def compute_gradient(X, y, w):\n",
    "    # Code here\n",
    "    m = y.shape[0]\n",
    "    dw = (1/m) * np.dot(X.T,  predict_prob(X,w) - y)\n",
    "    return dw"
   ]
  },
  {
   "cell_type": "markdown",
   "metadata": {},
   "source": [
    "### Update Weights"
   ]
  },
  {
   "cell_type": "code",
   "execution_count": 238,
   "metadata": {
    "ExecuteTime": {
     "end_time": "2021-06-08T03:10:49.252566Z",
     "start_time": "2021-06-08T03:10:49.204031Z"
    }
   },
   "outputs": [],
   "source": [
    "# Code here\n",
    "w = w - lr*compute_gradient(X_train, y_train, w)"
   ]
  },
  {
   "cell_type": "markdown",
   "metadata": {},
   "source": [
    "### Repeat for N- Iterations"
   ]
  },
  {
   "cell_type": "code",
   "execution_count": 239,
   "metadata": {
    "ExecuteTime": {
     "end_time": "2021-06-08T03:10:49.254612Z",
     "start_time": "2021-06-08T03:10:49.228Z"
    }
   },
   "outputs": [],
   "source": [
    "N = 10000\n",
    "losses = []\n",
    "for i in range(N):\n",
    "    # Predict\n",
    "    yhat = predict_prob(X_train, w)\n",
    "    \n",
    "    # Calculate Loss\n",
    "    loss = binary_cross_entropy(y_train, yhat)\n",
    "    \n",
    "    # Compute gradient dL/dW\n",
    "    dw = compute_gradient(X_train, y_train, w)\n",
    "    \n",
    "    # Update the weights\n",
    "    w = w - lr*dw\n",
    "    \n",
    "    losses.append(loss)"
   ]
  },
  {
   "cell_type": "markdown",
   "metadata": {},
   "source": [
    "### Plot the loss curve"
   ]
  },
  {
   "cell_type": "code",
   "execution_count": 240,
   "metadata": {
    "ExecuteTime": {
     "end_time": "2021-06-08T03:10:49.256637Z",
     "start_time": "2021-06-08T03:10:49.233Z"
    }
   },
   "outputs": [
    {
     "output_type": "display_data",
     "data": {
      "text/plain": "<Figure size 432x288 with 1 Axes>",
      "image/svg+xml": "<?xml version=\"1.0\" encoding=\"utf-8\" standalone=\"no\"?>\n<!DOCTYPE svg PUBLIC \"-//W3C//DTD SVG 1.1//EN\"\n  \"http://www.w3.org/Graphics/SVG/1.1/DTD/svg11.dtd\">\n<svg height=\"248.518125pt\" version=\"1.1\" viewBox=\"0 0 372.821633 248.518125\" width=\"372.821633pt\" xmlns=\"http://www.w3.org/2000/svg\" xmlns:xlink=\"http://www.w3.org/1999/xlink\">\n <metadata>\n  <rdf:RDF xmlns:cc=\"http://creativecommons.org/ns#\" xmlns:dc=\"http://purl.org/dc/elements/1.1/\" xmlns:rdf=\"http://www.w3.org/1999/02/22-rdf-syntax-ns#\">\n   <cc:Work>\n    <dc:type rdf:resource=\"http://purl.org/dc/dcmitype/StillImage\"/>\n    <dc:date>2021-06-10T13:20:28.577942</dc:date>\n    <dc:format>image/svg+xml</dc:format>\n    <dc:creator>\n     <cc:Agent>\n      <dc:title>Matplotlib v3.4.2, https://matplotlib.org/</dc:title>\n     </cc:Agent>\n    </dc:creator>\n   </cc:Work>\n  </rdf:RDF>\n </metadata>\n <defs>\n  <style type=\"text/css\">*{stroke-linecap:butt;stroke-linejoin:round;}</style>\n </defs>\n <g id=\"figure_1\">\n  <g id=\"patch_1\">\n   <path d=\"M 0 248.518125 \nL 372.821633 248.518125 \nL 372.821633 0 \nL 0 0 \nz\n\" style=\"fill:none;\"/>\n  </g>\n  <g id=\"axes_1\">\n   <g id=\"patch_2\">\n    <path d=\"M 30.103125 224.64 \nL 364.903125 224.64 \nL 364.903125 7.2 \nL 30.103125 7.2 \nz\n\" style=\"fill:#ffffff;\"/>\n   </g>\n   <g id=\"matplotlib.axis_1\">\n    <g id=\"xtick_1\">\n     <g id=\"line2d_1\">\n      <defs>\n       <path d=\"M 0 0 \nL 0 3.5 \n\" id=\"m27f0c2606c\" style=\"stroke:#000000;stroke-width:0.8;\"/>\n      </defs>\n      <g>\n       <use style=\"stroke:#000000;stroke-width:0.8;\" x=\"45.321307\" xlink:href=\"#m27f0c2606c\" y=\"224.64\"/>\n      </g>\n     </g>\n     <g id=\"text_1\">\n      <!-- 0 -->\n      <g transform=\"translate(42.140057 239.238438)scale(0.1 -0.1)\">\n       <defs>\n        <path d=\"M 2034 4250 \nQ 1547 4250 1301 3770 \nQ 1056 3291 1056 2328 \nQ 1056 1369 1301 889 \nQ 1547 409 2034 409 \nQ 2525 409 2770 889 \nQ 3016 1369 3016 2328 \nQ 3016 3291 2770 3770 \nQ 2525 4250 2034 4250 \nz\nM 2034 4750 \nQ 2819 4750 3233 4129 \nQ 3647 3509 3647 2328 \nQ 3647 1150 3233 529 \nQ 2819 -91 2034 -91 \nQ 1250 -91 836 529 \nQ 422 1150 422 2328 \nQ 422 3509 836 4129 \nQ 1250 4750 2034 4750 \nz\n\" id=\"DejaVuSans-30\" transform=\"scale(0.015625)\"/>\n       </defs>\n       <use xlink:href=\"#DejaVuSans-30\"/>\n      </g>\n     </g>\n    </g>\n    <g id=\"xtick_2\">\n     <g id=\"line2d_2\">\n      <g>\n       <use style=\"stroke:#000000;stroke-width:0.8;\" x=\"106.200122\" xlink:href=\"#m27f0c2606c\" y=\"224.64\"/>\n      </g>\n     </g>\n     <g id=\"text_2\">\n      <!-- 2000 -->\n      <g transform=\"translate(93.475122 239.238438)scale(0.1 -0.1)\">\n       <defs>\n        <path d=\"M 1228 531 \nL 3431 531 \nL 3431 0 \nL 469 0 \nL 469 531 \nQ 828 903 1448 1529 \nQ 2069 2156 2228 2338 \nQ 2531 2678 2651 2914 \nQ 2772 3150 2772 3378 \nQ 2772 3750 2511 3984 \nQ 2250 4219 1831 4219 \nQ 1534 4219 1204 4116 \nQ 875 4013 500 3803 \nL 500 4441 \nQ 881 4594 1212 4672 \nQ 1544 4750 1819 4750 \nQ 2544 4750 2975 4387 \nQ 3406 4025 3406 3419 \nQ 3406 3131 3298 2873 \nQ 3191 2616 2906 2266 \nQ 2828 2175 2409 1742 \nQ 1991 1309 1228 531 \nz\n\" id=\"DejaVuSans-32\" transform=\"scale(0.015625)\"/>\n       </defs>\n       <use xlink:href=\"#DejaVuSans-32\"/>\n       <use x=\"63.623047\" xlink:href=\"#DejaVuSans-30\"/>\n       <use x=\"127.246094\" xlink:href=\"#DejaVuSans-30\"/>\n       <use x=\"190.869141\" xlink:href=\"#DejaVuSans-30\"/>\n      </g>\n     </g>\n    </g>\n    <g id=\"xtick_3\">\n     <g id=\"line2d_3\">\n      <g>\n       <use style=\"stroke:#000000;stroke-width:0.8;\" x=\"167.078937\" xlink:href=\"#m27f0c2606c\" y=\"224.64\"/>\n      </g>\n     </g>\n     <g id=\"text_3\">\n      <!-- 4000 -->\n      <g transform=\"translate(154.353937 239.238438)scale(0.1 -0.1)\">\n       <defs>\n        <path d=\"M 2419 4116 \nL 825 1625 \nL 2419 1625 \nL 2419 4116 \nz\nM 2253 4666 \nL 3047 4666 \nL 3047 1625 \nL 3713 1625 \nL 3713 1100 \nL 3047 1100 \nL 3047 0 \nL 2419 0 \nL 2419 1100 \nL 313 1100 \nL 313 1709 \nL 2253 4666 \nz\n\" id=\"DejaVuSans-34\" transform=\"scale(0.015625)\"/>\n       </defs>\n       <use xlink:href=\"#DejaVuSans-34\"/>\n       <use x=\"63.623047\" xlink:href=\"#DejaVuSans-30\"/>\n       <use x=\"127.246094\" xlink:href=\"#DejaVuSans-30\"/>\n       <use x=\"190.869141\" xlink:href=\"#DejaVuSans-30\"/>\n      </g>\n     </g>\n    </g>\n    <g id=\"xtick_4\">\n     <g id=\"line2d_4\">\n      <g>\n       <use style=\"stroke:#000000;stroke-width:0.8;\" x=\"227.957752\" xlink:href=\"#m27f0c2606c\" y=\"224.64\"/>\n      </g>\n     </g>\n     <g id=\"text_4\">\n      <!-- 6000 -->\n      <g transform=\"translate(215.232752 239.238438)scale(0.1 -0.1)\">\n       <defs>\n        <path d=\"M 2113 2584 \nQ 1688 2584 1439 2293 \nQ 1191 2003 1191 1497 \nQ 1191 994 1439 701 \nQ 1688 409 2113 409 \nQ 2538 409 2786 701 \nQ 3034 994 3034 1497 \nQ 3034 2003 2786 2293 \nQ 2538 2584 2113 2584 \nz\nM 3366 4563 \nL 3366 3988 \nQ 3128 4100 2886 4159 \nQ 2644 4219 2406 4219 \nQ 1781 4219 1451 3797 \nQ 1122 3375 1075 2522 \nQ 1259 2794 1537 2939 \nQ 1816 3084 2150 3084 \nQ 2853 3084 3261 2657 \nQ 3669 2231 3669 1497 \nQ 3669 778 3244 343 \nQ 2819 -91 2113 -91 \nQ 1303 -91 875 529 \nQ 447 1150 447 2328 \nQ 447 3434 972 4092 \nQ 1497 4750 2381 4750 \nQ 2619 4750 2861 4703 \nQ 3103 4656 3366 4563 \nz\n\" id=\"DejaVuSans-36\" transform=\"scale(0.015625)\"/>\n       </defs>\n       <use xlink:href=\"#DejaVuSans-36\"/>\n       <use x=\"63.623047\" xlink:href=\"#DejaVuSans-30\"/>\n       <use x=\"127.246094\" xlink:href=\"#DejaVuSans-30\"/>\n       <use x=\"190.869141\" xlink:href=\"#DejaVuSans-30\"/>\n      </g>\n     </g>\n    </g>\n    <g id=\"xtick_5\">\n     <g id=\"line2d_5\">\n      <g>\n       <use style=\"stroke:#000000;stroke-width:0.8;\" x=\"288.836567\" xlink:href=\"#m27f0c2606c\" y=\"224.64\"/>\n      </g>\n     </g>\n     <g id=\"text_5\">\n      <!-- 8000 -->\n      <g transform=\"translate(276.111567 239.238438)scale(0.1 -0.1)\">\n       <defs>\n        <path d=\"M 2034 2216 \nQ 1584 2216 1326 1975 \nQ 1069 1734 1069 1313 \nQ 1069 891 1326 650 \nQ 1584 409 2034 409 \nQ 2484 409 2743 651 \nQ 3003 894 3003 1313 \nQ 3003 1734 2745 1975 \nQ 2488 2216 2034 2216 \nz\nM 1403 2484 \nQ 997 2584 770 2862 \nQ 544 3141 544 3541 \nQ 544 4100 942 4425 \nQ 1341 4750 2034 4750 \nQ 2731 4750 3128 4425 \nQ 3525 4100 3525 3541 \nQ 3525 3141 3298 2862 \nQ 3072 2584 2669 2484 \nQ 3125 2378 3379 2068 \nQ 3634 1759 3634 1313 \nQ 3634 634 3220 271 \nQ 2806 -91 2034 -91 \nQ 1263 -91 848 271 \nQ 434 634 434 1313 \nQ 434 1759 690 2068 \nQ 947 2378 1403 2484 \nz\nM 1172 3481 \nQ 1172 3119 1398 2916 \nQ 1625 2713 2034 2713 \nQ 2441 2713 2670 2916 \nQ 2900 3119 2900 3481 \nQ 2900 3844 2670 4047 \nQ 2441 4250 2034 4250 \nQ 1625 4250 1398 4047 \nQ 1172 3844 1172 3481 \nz\n\" id=\"DejaVuSans-38\" transform=\"scale(0.015625)\"/>\n       </defs>\n       <use xlink:href=\"#DejaVuSans-38\"/>\n       <use x=\"63.623047\" xlink:href=\"#DejaVuSans-30\"/>\n       <use x=\"127.246094\" xlink:href=\"#DejaVuSans-30\"/>\n       <use x=\"190.869141\" xlink:href=\"#DejaVuSans-30\"/>\n      </g>\n     </g>\n    </g>\n    <g id=\"xtick_6\">\n     <g id=\"line2d_6\">\n      <g>\n       <use style=\"stroke:#000000;stroke-width:0.8;\" x=\"349.715383\" xlink:href=\"#m27f0c2606c\" y=\"224.64\"/>\n      </g>\n     </g>\n     <g id=\"text_6\">\n      <!-- 10000 -->\n      <g transform=\"translate(333.809133 239.238438)scale(0.1 -0.1)\">\n       <defs>\n        <path d=\"M 794 531 \nL 1825 531 \nL 1825 4091 \nL 703 3866 \nL 703 4441 \nL 1819 4666 \nL 2450 4666 \nL 2450 531 \nL 3481 531 \nL 3481 0 \nL 794 0 \nL 794 531 \nz\n\" id=\"DejaVuSans-31\" transform=\"scale(0.015625)\"/>\n       </defs>\n       <use xlink:href=\"#DejaVuSans-31\"/>\n       <use x=\"63.623047\" xlink:href=\"#DejaVuSans-30\"/>\n       <use x=\"127.246094\" xlink:href=\"#DejaVuSans-30\"/>\n       <use x=\"190.869141\" xlink:href=\"#DejaVuSans-30\"/>\n       <use x=\"254.492188\" xlink:href=\"#DejaVuSans-30\"/>\n      </g>\n     </g>\n    </g>\n   </g>\n   <g id=\"matplotlib.axis_2\">\n    <g id=\"ytick_1\">\n     <g id=\"line2d_7\">\n      <defs>\n       <path d=\"M 0 0 \nL -3.5 0 \n\" id=\"m0b5f781c64\" style=\"stroke:#000000;stroke-width:0.8;\"/>\n      </defs>\n      <g>\n       <use style=\"stroke:#000000;stroke-width:0.8;\" x=\"30.103125\" xlink:href=\"#m0b5f781c64\" y=\"220.03073\"/>\n      </g>\n     </g>\n     <g id=\"text_7\">\n      <!-- 0.2 -->\n      <g transform=\"translate(7.2 223.829948)scale(0.1 -0.1)\">\n       <defs>\n        <path d=\"M 684 794 \nL 1344 794 \nL 1344 0 \nL 684 0 \nL 684 794 \nz\n\" id=\"DejaVuSans-2e\" transform=\"scale(0.015625)\"/>\n       </defs>\n       <use xlink:href=\"#DejaVuSans-30\"/>\n       <use x=\"63.623047\" xlink:href=\"#DejaVuSans-2e\"/>\n       <use x=\"95.410156\" xlink:href=\"#DejaVuSans-32\"/>\n      </g>\n     </g>\n    </g>\n    <g id=\"ytick_2\">\n     <g id=\"line2d_8\">\n      <g>\n       <use style=\"stroke:#000000;stroke-width:0.8;\" x=\"30.103125\" xlink:href=\"#m0b5f781c64\" y=\"179.320345\"/>\n      </g>\n     </g>\n     <g id=\"text_8\">\n      <!-- 0.3 -->\n      <g transform=\"translate(7.2 183.119563)scale(0.1 -0.1)\">\n       <defs>\n        <path d=\"M 2597 2516 \nQ 3050 2419 3304 2112 \nQ 3559 1806 3559 1356 \nQ 3559 666 3084 287 \nQ 2609 -91 1734 -91 \nQ 1441 -91 1130 -33 \nQ 819 25 488 141 \nL 488 750 \nQ 750 597 1062 519 \nQ 1375 441 1716 441 \nQ 2309 441 2620 675 \nQ 2931 909 2931 1356 \nQ 2931 1769 2642 2001 \nQ 2353 2234 1838 2234 \nL 1294 2234 \nL 1294 2753 \nL 1863 2753 \nQ 2328 2753 2575 2939 \nQ 2822 3125 2822 3475 \nQ 2822 3834 2567 4026 \nQ 2313 4219 1838 4219 \nQ 1578 4219 1281 4162 \nQ 984 4106 628 3988 \nL 628 4550 \nQ 988 4650 1302 4700 \nQ 1616 4750 1894 4750 \nQ 2613 4750 3031 4423 \nQ 3450 4097 3450 3541 \nQ 3450 3153 3228 2886 \nQ 3006 2619 2597 2516 \nz\n\" id=\"DejaVuSans-33\" transform=\"scale(0.015625)\"/>\n       </defs>\n       <use xlink:href=\"#DejaVuSans-30\"/>\n       <use x=\"63.623047\" xlink:href=\"#DejaVuSans-2e\"/>\n       <use x=\"95.410156\" xlink:href=\"#DejaVuSans-33\"/>\n      </g>\n     </g>\n    </g>\n    <g id=\"ytick_3\">\n     <g id=\"line2d_9\">\n      <g>\n       <use style=\"stroke:#000000;stroke-width:0.8;\" x=\"30.103125\" xlink:href=\"#m0b5f781c64\" y=\"138.609959\"/>\n      </g>\n     </g>\n     <g id=\"text_9\">\n      <!-- 0.4 -->\n      <g transform=\"translate(7.2 142.409178)scale(0.1 -0.1)\">\n       <use xlink:href=\"#DejaVuSans-30\"/>\n       <use x=\"63.623047\" xlink:href=\"#DejaVuSans-2e\"/>\n       <use x=\"95.410156\" xlink:href=\"#DejaVuSans-34\"/>\n      </g>\n     </g>\n    </g>\n    <g id=\"ytick_4\">\n     <g id=\"line2d_10\">\n      <g>\n       <use style=\"stroke:#000000;stroke-width:0.8;\" x=\"30.103125\" xlink:href=\"#m0b5f781c64\" y=\"97.899574\"/>\n      </g>\n     </g>\n     <g id=\"text_10\">\n      <!-- 0.5 -->\n      <g transform=\"translate(7.2 101.698793)scale(0.1 -0.1)\">\n       <defs>\n        <path d=\"M 691 4666 \nL 3169 4666 \nL 3169 4134 \nL 1269 4134 \nL 1269 2991 \nQ 1406 3038 1543 3061 \nQ 1681 3084 1819 3084 \nQ 2600 3084 3056 2656 \nQ 3513 2228 3513 1497 \nQ 3513 744 3044 326 \nQ 2575 -91 1722 -91 \nQ 1428 -91 1123 -41 \nQ 819 9 494 109 \nL 494 744 \nQ 775 591 1075 516 \nQ 1375 441 1709 441 \nQ 2250 441 2565 725 \nQ 2881 1009 2881 1497 \nQ 2881 1984 2565 2268 \nQ 2250 2553 1709 2553 \nQ 1456 2553 1204 2497 \nQ 953 2441 691 2322 \nL 691 4666 \nz\n\" id=\"DejaVuSans-35\" transform=\"scale(0.015625)\"/>\n       </defs>\n       <use xlink:href=\"#DejaVuSans-30\"/>\n       <use x=\"63.623047\" xlink:href=\"#DejaVuSans-2e\"/>\n       <use x=\"95.410156\" xlink:href=\"#DejaVuSans-35\"/>\n      </g>\n     </g>\n    </g>\n    <g id=\"ytick_5\">\n     <g id=\"line2d_11\">\n      <g>\n       <use style=\"stroke:#000000;stroke-width:0.8;\" x=\"30.103125\" xlink:href=\"#m0b5f781c64\" y=\"57.189189\"/>\n      </g>\n     </g>\n     <g id=\"text_11\">\n      <!-- 0.6 -->\n      <g transform=\"translate(7.2 60.988408)scale(0.1 -0.1)\">\n       <use xlink:href=\"#DejaVuSans-30\"/>\n       <use x=\"63.623047\" xlink:href=\"#DejaVuSans-2e\"/>\n       <use x=\"95.410156\" xlink:href=\"#DejaVuSans-36\"/>\n      </g>\n     </g>\n    </g>\n    <g id=\"ytick_6\">\n     <g id=\"line2d_12\">\n      <g>\n       <use style=\"stroke:#000000;stroke-width:0.8;\" x=\"30.103125\" xlink:href=\"#m0b5f781c64\" y=\"16.478804\"/>\n      </g>\n     </g>\n     <g id=\"text_12\">\n      <!-- 0.7 -->\n      <g transform=\"translate(7.2 20.278023)scale(0.1 -0.1)\">\n       <defs>\n        <path d=\"M 525 4666 \nL 3525 4666 \nL 3525 4397 \nL 1831 0 \nL 1172 0 \nL 2766 4134 \nL 525 4134 \nL 525 4666 \nz\n\" id=\"DejaVuSans-37\" transform=\"scale(0.015625)\"/>\n       </defs>\n       <use xlink:href=\"#DejaVuSans-30\"/>\n       <use x=\"63.623047\" xlink:href=\"#DejaVuSans-2e\"/>\n       <use x=\"95.410156\" xlink:href=\"#DejaVuSans-37\"/>\n      </g>\n     </g>\n    </g>\n   </g>\n   <g id=\"line2d_13\">\n    <path clip-path=\"url(#pfcef7a8265)\" d=\"M 45.321307 17.083636 \nL 46.082292 31.768939 \nL 47.178111 48.700791 \nL 48.334808 63.270618 \nL 49.552384 75.834564 \nL 50.8004 86.458929 \nL 52.109295 95.727684 \nL 53.479068 103.849521 \nL 54.90972 111.002355 \nL 56.401251 117.335604 \nL 57.953661 122.973788 \nL 59.597389 128.108775 \nL 61.301996 132.714922 \nL 63.097921 136.936502 \nL 64.985164 140.812982 \nL 66.994165 144.432156 \nL 69.094484 147.763578 \nL 71.347 150.919971 \nL 73.751713 153.903136 \nL 76.308624 156.718898 \nL 79.04817 159.40384 \nL 82.000793 161.984063 \nL 85.196931 164.478158 \nL 88.636584 166.879275 \nL 92.380631 169.221223 \nL 96.489951 171.526467 \nL 100.994983 173.794793 \nL 105.926167 176.02614 \nL 111.374821 178.244336 \nL 117.401824 180.453774 \nL 124.068054 182.656694 \nL 131.46483 184.862582 \nL 139.653031 187.068935 \nL 148.754414 189.287321 \nL 158.860297 191.5176 \nL 170.061999 193.75802 \nL 182.450838 196.005583 \nL 196.148571 198.26106 \nL 211.246518 200.518303 \nL 227.866434 202.774689 \nL 246.099639 205.022277 \nL 266.067891 207.256434 \nL 287.892946 209.471516 \nL 311.727002 211.663956 \nL 337.722256 213.828956 \nL 349.684943 214.756364 \nL 349.684943 214.756364 \n\" style=\"fill:none;stroke:#1f77b4;stroke-linecap:square;stroke-width:1.5;\"/>\n   </g>\n   <g id=\"patch_3\">\n    <path d=\"M 30.103125 224.64 \nL 30.103125 7.2 \n\" style=\"fill:none;stroke:#000000;stroke-linecap:square;stroke-linejoin:miter;stroke-width:0.8;\"/>\n   </g>\n   <g id=\"patch_4\">\n    <path d=\"M 364.903125 224.64 \nL 364.903125 7.2 \n\" style=\"fill:none;stroke:#000000;stroke-linecap:square;stroke-linejoin:miter;stroke-width:0.8;\"/>\n   </g>\n   <g id=\"patch_5\">\n    <path d=\"M 30.103125 224.64 \nL 364.903125 224.64 \n\" style=\"fill:none;stroke:#000000;stroke-linecap:square;stroke-linejoin:miter;stroke-width:0.8;\"/>\n   </g>\n   <g id=\"patch_6\">\n    <path d=\"M 30.103125 7.2 \nL 364.903125 7.2 \n\" style=\"fill:none;stroke:#000000;stroke-linecap:square;stroke-linejoin:miter;stroke-width:0.8;\"/>\n   </g>\n  </g>\n </g>\n <defs>\n  <clipPath id=\"pfcef7a8265\">\n   <rect height=\"217.44\" width=\"334.8\" x=\"30.103125\" y=\"7.2\"/>\n  </clipPath>\n </defs>\n</svg>\n",
      "image/png": "[encoded data removed]"
     },
     "metadata": {
      "needs_background": "light"
     }
    }
   ],
   "source": [
    "# Loss curve here\n",
    "plt.plot(losses)\n",
    "plt.show()"
   ]
  },
  {
   "cell_type": "markdown",
   "metadata": {},
   "source": [
    "### Calculate the classification report and the confusion matrix"
   ]
  },
  {
   "cell_type": "code",
   "execution_count": 241,
   "metadata": {
    "ExecuteTime": {
     "end_time": "2021-06-09T13:03:52.812396Z",
     "start_time": "2021-06-09T13:03:52.804969Z"
    }
   },
   "outputs": [],
   "source": [
    "from sklearn.metrics import classification_report, confusion_matrix"
   ]
  },
  {
   "cell_type": "code",
   "execution_count": 242,
   "metadata": {
    "tags": []
   },
   "outputs": [
    {
     "output_type": "stream",
     "name": "stdout",
     "text": "[[141  17]\n [ 21 219]]\n              precision    recall  f1-score   support\n\n           0       0.87      0.89      0.88       158\n           1       0.93      0.91      0.92       240\n\n    accuracy                           0.90       398\n   macro avg       0.90      0.90      0.90       398\nweighted avg       0.91      0.90      0.90       398\n\n"
    }
   ],
   "source": [
    "# Scores here\n",
    "yhat = yhat.round()\n",
    "\n",
    "print(confusion_matrix(y_train, yhat))\n",
    "print(classification_report(y_train, yhat))"
   ]
  },
  {
   "cell_type": "markdown",
   "metadata": {},
   "source": [
    "# BONUS: Create a LogisticRegression Class [OPTIONAL]\n",
    "Create a Sklearn-like API"
   ]
  },
  {
   "cell_type": "code",
   "execution_count": 243,
   "metadata": {
    "ExecuteTime": {
     "end_time": "2021-06-08T03:10:49.363615Z",
     "start_time": "2021-06-08T03:10:49.359276Z"
    }
   },
   "outputs": [],
   "source": [
    "class LogisticRegression:\n",
    "    # You can define additional functions as per your need\n",
    "    def __init__(self, lr = 0.1, n_iters=10000):\n",
    "        self.lr = lr\n",
    "        self.n_iters = n_iters\n",
    "        self.w = None\n",
    "\n",
    "    def fit(self, X, y):\n",
    "        n_samples, n_features = X.shape\n",
    "\n",
    "        # init parameters\n",
    "        self.w = np.random.uniform(-1, 1, X.shape[1])\n",
    "\n",
    "        # gradient descent\n",
    "        for _ in range(self.n_iters):\n",
    "            # approximate y with linear combination of weights and x, plus bias\n",
    "            z = np.dot(X, self.w)\n",
    "            # apply sigmoid function\n",
    "            y_predicted = self._sigmoid(z)\n",
    "\n",
    "            # compute gradients\n",
    "            dw = (1 / n_samples) * np.dot(X.T, (y_predicted - y))\n",
    "            # update parameters\n",
    "            self.w -= self.lr * dw\n",
    "\n",
    "    def predict(self, X):\n",
    "        z = np.dot(X, self.w)\n",
    "        y_predicted = self._sigmoid(z)\n",
    "        y_predicted_cls = [1 if i > 0.5 else 0 for i in y_predicted]\n",
    "        return np.array(y_predicted_cls)\n",
    "\n",
    "    def _sigmoid(self, z):\n",
    "        return 1 / (1 + np.exp(-z))"
   ]
  },
  {
   "cell_type": "code",
   "execution_count": 244,
   "metadata": {},
   "outputs": [],
   "source": [
    "model = LogisticRegression()\n",
    "model.fit(X_train, y_train)\n",
    "predictions = model.predict(X_test).round()\n",
    "\n",
    "confusion_matrix_our = confusion_matrix(y_test, predictions)\n",
    "classification_report_our = classification_report(y_test, predictions)"
   ]
  },
  {
   "cell_type": "markdown",
   "metadata": {},
   "source": [
    "### Compare metrics with Sklearn's implementation"
   ]
  },
  {
   "cell_type": "code",
   "execution_count": 245,
   "metadata": {
    "ExecuteTime": {
     "end_time": "2021-06-08T03:13:38.648135Z",
     "start_time": "2021-06-08T03:13:38.640657Z"
    }
   },
   "outputs": [],
   "source": [
    "from sklearn.linear_model import LogisticRegression as SKLogisticRegression"
   ]
  },
  {
   "cell_type": "code",
   "execution_count": 246,
   "metadata": {},
   "outputs": [],
   "source": [
    "sklearn_model = SKLogisticRegression()\n",
    "sklearn_model.fit(X_train, y_train)\n",
    "sklearn_predictions = sklearn_model.predict(X_test)\n",
    "\n",
    "\n",
    "confusion_matrix_sklearn = confusion_matrix(y_test, sklearn_predictions)\n",
    "classification_report_sklearn = classification_report(y_test, sklearn_predictions)\n"
   ]
  },
  {
   "cell_type": "code",
   "execution_count": 247,
   "metadata": {
    "tags": []
   },
   "outputs": [
    {
     "output_type": "stream",
     "name": "stdout",
     "text": "Sklearn: [[ 54   0]\n [  1 116]]\nOurs: [[ 48   6]\n [ 10 107]]\nSklearn:               precision    recall  f1-score   support\n\n           0       0.98      1.00      0.99        54\n           1       1.00      0.99      1.00       117\n\n    accuracy                           0.99       171\n   macro avg       0.99      1.00      0.99       171\nweighted avg       0.99      0.99      0.99       171\n\nOurs:               precision    recall  f1-score   support\n\n           0       0.83      0.89      0.86        54\n           1       0.95      0.91      0.93       117\n\n    accuracy                           0.91       171\n   macro avg       0.89      0.90      0.89       171\nweighted avg       0.91      0.91      0.91       171\n\n"
    }
   ],
   "source": [
    "### compare classification report and confusion matrix here\n",
    "print(f\"Sklearn: {confusion_matrix_sklearn}\")\n",
    "print(f\"Ours: {confusion_matrix_our}\")\n",
    "print(f\"Sklearn: {classification_report_sklearn}\")\n",
    "print(f\"Ours: {classification_report_our}\")\n"
   ]
  }
 ],
 "metadata": {
  "kernelspec": {
   "display_name": "Python 3",
   "language": "python",
   "name": "python3"
  },
  "language_info": {
   "codemirror_mode": {
    "name": "ipython",
    "version": 3
   },
   "file_extension": ".py",
   "mimetype": "text/x-python",
   "name": "python",
   "nbconvert_exporter": "python",
   "pygments_lexer": "ipython3",
   "version": "3.9.5-final"
  },
  "toc": {
   "base_numbering": 1,
   "nav_menu": {},
   "number_sections": true,
   "sideBar": true,
   "skip_h1_title": false,
   "title_cell": "Table of Contents",
   "title_sidebar": "Contents",
   "toc_cell": false,
   "toc_position": {},
   "toc_section_display": true,
   "toc_window_display": false
  }
 },
 "nbformat": 4,
 "nbformat_minor": 4
}