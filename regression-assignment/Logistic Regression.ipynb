{
 "cells": [
  {
   "cell_type": "code",
   "execution_count": 298,
   "metadata": {
    "ExecuteTime": {
     "end_time": "2021-06-09T13:06:28.433586Z",
     "start_time": "2021-06-09T13:06:28.296907Z"
    }
   },
   "outputs": [],
   "source": [
    "import numpy as np\n",
    "import pandas as pd \n",
    "\n",
    "import matplotlib.pyplot as plt  \n",
    "import seaborn as sns"
   ]
  },
  {
   "cell_type": "markdown",
   "metadata": {},
   "source": [
    "# Implement Logistic Regression"
   ]
  },
  {
   "cell_type": "markdown",
   "metadata": {},
   "source": [
    "This will be helpful to further familiarize yourself with Numpy and how Logistic Regression actually works.\n",
    "If you face any problems, feel free to contact us in Slack"
   ]
  },
  {
   "cell_type": "markdown",
   "metadata": {},
   "source": [
    "### Load the breast cancer dataset (from sklearn)"
   ]
  },
  {
   "cell_type": "code",
   "execution_count": 299,
   "metadata": {
    "ExecuteTime": {
     "end_time": "2021-06-09T12:42:06.585347Z",
     "start_time": "2021-06-09T12:42:06.577169Z"
    }
   },
   "outputs": [
    {
     "output_type": "execute_result",
     "data": {
      "text/plain": "   mean texture  mean perimeter  mean area  mean smoothness  mean compactness  \\\n0         10.38          122.80     1001.0          0.11840           0.27760   \n1         17.77          132.90     1326.0          0.08474           0.07864   \n2         21.25          130.00     1203.0          0.10960           0.15990   \n3         20.38           77.58      386.1          0.14250           0.28390   \n4         14.34          135.10     1297.0          0.10030           0.13280   \n\n   mean concavity  mean concave points  mean symmetry  mean fractal dimension  \\\n0          0.3001              0.14710         0.2419                 0.07871   \n1          0.0869              0.07017         0.1812                 0.05667   \n2          0.1974              0.12790         0.2069                 0.05999   \n3          0.2414              0.10520         0.2597                 0.09744   \n4          0.1980              0.10430         0.1809                 0.05883   \n\n   radius error  ...  fractal dimension error  worst radius  worst texture  \\\n0        1.0950  ...                 0.006193         25.38          17.33   \n1        0.5435  ...                 0.003532         24.99          23.41   \n2        0.7456  ...                 0.004571         23.57          25.53   \n3        0.4956  ...                 0.009208         14.91          26.50   \n4        0.7572  ...                 0.005115         22.54          16.67   \n\n   worst perimeter  worst area  worst smoothness  worst compactness  \\\n0           184.60      2019.0            0.1622             0.6656   \n1           158.80      1956.0            0.1238             0.1866   \n2           152.50      1709.0            0.1444             0.4245   \n3            98.87       567.7            0.2098             0.8663   \n4           152.20      1575.0            0.1374             0.2050   \n\n   worst concavity  worst concave points  worst symmetry  \n0           0.7119                0.2654          0.4601  \n1           0.2416                0.1860          0.2750  \n2           0.4504                0.2430          0.3613  \n3           0.6869                0.2575          0.6638  \n4           0.4000                0.1625          0.2364  \n\n[5 rows x 28 columns]",
      "text/html": "<div>\n<style scoped>\n    .dataframe tbody tr th:only-of-type {\n        vertical-align: middle;\n    }\n\n    .dataframe tbody tr th {\n        vertical-align: top;\n    }\n\n    .dataframe thead th {\n        text-align: right;\n    }\n</style>\n<table border=\"1\" class=\"dataframe\">\n  <thead>\n    <tr style=\"text-align: right;\">\n      <th></th>\n      <th>mean texture</th>\n      <th>mean perimeter</th>\n      <th>mean area</th>\n      <th>mean smoothness</th>\n      <th>mean compactness</th>\n      <th>mean concavity</th>\n      <th>mean concave points</th>\n      <th>mean symmetry</th>\n      <th>mean fractal dimension</th>\n      <th>radius error</th>\n      <th>...</th>\n      <th>fractal dimension error</th>\n      <th>worst radius</th>\n      <th>worst texture</th>\n      <th>worst perimeter</th>\n      <th>worst area</th>\n      <th>worst smoothness</th>\n      <th>worst compactness</th>\n      <th>worst concavity</th>\n      <th>worst concave points</th>\n      <th>worst symmetry</th>\n    </tr>\n  </thead>\n  <tbody>\n    <tr>\n      <th>0</th>\n      <td>10.38</td>\n      <td>122.80</td>\n      <td>1001.0</td>\n      <td>0.11840</td>\n      <td>0.27760</td>\n      <td>0.3001</td>\n      <td>0.14710</td>\n      <td>0.2419</td>\n      <td>0.07871</td>\n      <td>1.0950</td>\n      <td>...</td>\n      <td>0.006193</td>\n      <td>25.38</td>\n      <td>17.33</td>\n      <td>184.60</td>\n      <td>2019.0</td>\n      <td>0.1622</td>\n      <td>0.6656</td>\n      <td>0.7119</td>\n      <td>0.2654</td>\n      <td>0.4601</td>\n    </tr>\n    <tr>\n      <th>1</th>\n      <td>17.77</td>\n      <td>132.90</td>\n      <td>1326.0</td>\n      <td>0.08474</td>\n      <td>0.07864</td>\n      <td>0.0869</td>\n      <td>0.07017</td>\n      <td>0.1812</td>\n      <td>0.05667</td>\n      <td>0.5435</td>\n      <td>...</td>\n      <td>0.003532</td>\n      <td>24.99</td>\n      <td>23.41</td>\n      <td>158.80</td>\n      <td>1956.0</td>\n      <td>0.1238</td>\n      <td>0.1866</td>\n      <td>0.2416</td>\n      <td>0.1860</td>\n      <td>0.2750</td>\n    </tr>\n    <tr>\n      <th>2</th>\n      <td>21.25</td>\n      <td>130.00</td>\n      <td>1203.0</td>\n      <td>0.10960</td>\n      <td>0.15990</td>\n      <td>0.1974</td>\n      <td>0.12790</td>\n      <td>0.2069</td>\n      <td>0.05999</td>\n      <td>0.7456</td>\n      <td>...</td>\n      <td>0.004571</td>\n      <td>23.57</td>\n      <td>25.53</td>\n      <td>152.50</td>\n      <td>1709.0</td>\n      <td>0.1444</td>\n      <td>0.4245</td>\n      <td>0.4504</td>\n      <td>0.2430</td>\n      <td>0.3613</td>\n    </tr>\n    <tr>\n      <th>3</th>\n      <td>20.38</td>\n      <td>77.58</td>\n      <td>386.1</td>\n      <td>0.14250</td>\n      <td>0.28390</td>\n      <td>0.2414</td>\n      <td>0.10520</td>\n      <td>0.2597</td>\n      <td>0.09744</td>\n      <td>0.4956</td>\n      <td>...</td>\n      <td>0.009208</td>\n      <td>14.91</td>\n      <td>26.50</td>\n      <td>98.87</td>\n      <td>567.7</td>\n      <td>0.2098</td>\n      <td>0.8663</td>\n      <td>0.6869</td>\n      <td>0.2575</td>\n      <td>0.6638</td>\n    </tr>\n    <tr>\n      <th>4</th>\n      <td>14.34</td>\n      <td>135.10</td>\n      <td>1297.0</td>\n      <td>0.10030</td>\n      <td>0.13280</td>\n      <td>0.1980</td>\n      <td>0.10430</td>\n      <td>0.1809</td>\n      <td>0.05883</td>\n      <td>0.7572</td>\n      <td>...</td>\n      <td>0.005115</td>\n      <td>22.54</td>\n      <td>16.67</td>\n      <td>152.20</td>\n      <td>1575.0</td>\n      <td>0.1374</td>\n      <td>0.2050</td>\n      <td>0.4000</td>\n      <td>0.1625</td>\n      <td>0.2364</td>\n    </tr>\n  </tbody>\n</table>\n<p>5 rows × 28 columns</p>\n</div>"
     },
     "metadata": {},
     "execution_count": 299
    }
   ],
   "source": [
    "from sklearn.datasets import load_breast_cancer\n",
    "breast_cancer_dataset = load_breast_cancer()\n",
    "\n",
    "breast_cancer = pd.DataFrame(breast_cancer_dataset.data, columns = breast_cancer_dataset.feature_names)\n",
    "\n",
    "breast_cancer.drop(breast_cancer.columns[[-1, 0]], axis=1, inplace=True)\n",
    "breast_cancer.head()"
   ]
  },
  {
   "cell_type": "code",
   "execution_count": 300,
   "metadata": {
    "ExecuteTime": {
     "end_time": "2021-06-09T12:42:07.291757Z",
     "start_time": "2021-06-09T12:42:07.285931Z"
    }
   },
   "outputs": [],
   "source": [
    "breast_cancer['class'] = breast_cancer_dataset.target\n",
    "\n",
    "X = breast_cancer.drop('class', axis=1)\n",
    "y = breast_cancer['class']"
   ]
  },
  {
   "cell_type": "markdown",
   "metadata": {},
   "source": [
    "### Train test split"
   ]
  },
  {
   "cell_type": "code",
   "execution_count": 301,
   "metadata": {
    "tags": []
   },
   "outputs": [
    {
     "output_type": "stream",
     "name": "stdout",
     "text": "(455, 28)\n(114, 28)\n(455,)\n(114,)\n"
    }
   ],
   "source": [
    "from sklearn.model_selection import train_test_split\n",
    "\n",
    "X_train, X_test, y_train, y_test = train_test_split(X,y, test_size = 0.2, random_state = 1000)\n",
    "print(X_train.shape)\n",
    "print(X_test.shape)\n",
    "print(y_train.shape)\n",
    "print(y_test.shape)"
   ]
  },
  {
   "cell_type": "markdown",
   "metadata": {},
   "source": [
    "### Apply feature scaling on the data"
   ]
  },
  {
   "cell_type": "code",
   "execution_count": 302,
   "metadata": {
    "ExecuteTime": {
     "end_time": "2021-06-09T12:42:09.129434Z",
     "start_time": "2021-06-09T12:42:09.121016Z"
    }
   },
   "outputs": [],
   "source": [
    "# def normalization(X,features):\n",
    "#     for feature in features:\n",
    "#         minimum = min(X[feature])\n",
    "#         maximum = max(X[feature])\n",
    "#         X[feature] = (X[feature] -minimum) / (maximum - minimum)\n",
    "#     return X\n",
    "# features_train = X_train.columns\n",
    "# X_train = normalization(X_train,features_train)\n",
    "\n",
    "# features_test = X_test.columns\n",
    "# X_test = normalization(X_test,features_test)\n",
    "\n",
    "from sklearn.preprocessing import MinMaxScaler\n",
    "\n",
    "scaler = MinMaxScaler()\n",
    "X_train = scaler.fit_transform(X_train)\n",
    "X_test = scaler.transform(X_test)"
   ]
  },
  {
   "cell_type": "markdown",
   "metadata": {},
   "source": [
    "### Define the Parameters (W or Θ) here\n",
    "Create an appropriate shape numpy array for W"
   ]
  },
  {
   "cell_type": "code",
   "execution_count": 303,
   "metadata": {
    "ExecuteTime": {
     "end_time": "2021-06-09T12:42:17.483898Z",
     "start_time": "2021-06-09T12:42:17.479146Z"
    }
   },
   "outputs": [
    {
     "output_type": "execute_result",
     "data": {
      "text/plain": "(28,)"
     },
     "metadata": {},
     "execution_count": 303
    }
   ],
   "source": [
    "w = np.random.uniform(-1, 1, X_train.shape[1])\n",
    "lr =  0.1\n",
    "w.shape"
   ]
  },
  {
   "attachments": {
    "image.png": {
     "image/png": "[encoded data removed]"
    }
   },
   "cell_type": "markdown",
   "metadata": {},
   "source": [
    "### Define sigmoid and its derivative\n",
    "![image.png](attachment:image.png)"
   ]
  },
  {
   "cell_type": "code",
   "execution_count": 304,
   "metadata": {
    "ExecuteTime": {
     "end_time": "2021-06-09T13:06:30.556499Z",
     "start_time": "2021-06-09T13:06:30.546273Z"
    }
   },
   "outputs": [],
   "source": [
    "def sigmoid(z):\n",
    "    # Apply sigmoid to X and return \n",
    "    return 1.0 / (1 + np.exp(-z))"
   ]
  },
  {
   "cell_type": "markdown",
   "metadata": {},
   "source": [
    "### Prediction methods"
   ]
  },
  {
   "cell_type": "code",
   "execution_count": 305,
   "metadata": {
    "ExecuteTime": {
     "end_time": "2021-06-09T13:02:43.868900Z",
     "start_time": "2021-06-09T13:02:43.861414Z"
    }
   },
   "outputs": [],
   "source": [
    "def predict_prob(X, w):\n",
    "    # Return the class probabilities here\n",
    "    z = np.dot(X, w)\n",
    "    return sigmoid(z)\n",
    "\n"
   ]
  },
  {
   "attachments": {
    "image.png": {
     "image/png": "[encoded data removed]"
    }
   },
   "cell_type": "markdown",
   "metadata": {},
   "source": [
    "### Define the Cross entropy loss function\n",
    "\n",
    "![image.png](attachment:image.png)"
   ]
  },
  {
   "cell_type": "code",
   "execution_count": 306,
   "metadata": {
    "ExecuteTime": {
     "end_time": "2021-06-09T12:45:11.548167Z",
     "start_time": "2021-06-09T12:45:11.536323Z"
    }
   },
   "outputs": [],
   "source": [
    "# Code here\n",
    "def binary_cross_entropy(y, yhat):\n",
    "    m = y.shape[0]\n",
    "\n",
    "    #Take the error when label=1\n",
    "    class1_cost = -y*np.log(yhat)\n",
    "\n",
    "    #Take the error when label=0\n",
    "    class2_cost = (1-y)*np.log(1-yhat)\n",
    "\n",
    "    #Take the sum of both costs\n",
    "    cost = class1_cost - class2_cost\n",
    "\n",
    "    #Take the average cost\n",
    "    cost = cost.sum() / m\n",
    "\n",
    "    return cost"
   ]
  },
  {
   "cell_type": "code",
   "execution_count": 307,
   "metadata": {
    "ExecuteTime": {
     "end_time": "2021-06-08T03:10:49.247090Z",
     "start_time": "2021-06-08T03:10:49.212Z"
    },
    "tags": []
   },
   "outputs": [
    {
     "output_type": "stream",
     "name": "stdout",
     "text": "[0.42383397 0.49488726 0.3893844  0.40835719 0.42378997 0.55607408\n 0.39249451 0.48324231 0.40414022 0.50060937 0.4841578  0.41683918\n 0.53128637 0.4839742  0.35693941 0.49057594 0.76974432 0.50555531\n 0.6076968  0.41454585 0.50605341 0.76686111 0.53790449 0.63125707\n 0.43798713 0.59052985 0.38264348 0.49817844 0.43673314 0.60769764\n 0.47028584 0.5932529  0.5131103  0.48055831 0.55564615 0.40485292\n 0.43485524 0.51082446 0.41179794 0.4517783  0.58756156 0.56722003\n 0.46209693 0.53773426 0.59870842 0.48393023 0.43766236 0.30558595\n 0.59748679 0.4553597  0.30470237 0.50619382 0.5208932  0.56915124\n 0.5452679  0.49476616 0.53052034 0.45676569 0.37313794 0.50970823\n 0.32085112 0.45135058 0.33072753 0.37879027 0.43312165 0.45720271\n 0.40189757 0.64237004 0.60499093 0.60161606 0.36402961 0.73515667\n 0.31824443 0.42478071 0.41509193 0.51430418 0.51274498 0.3969482\n 0.53792255 0.31263028 0.38534957 0.29857441 0.32987747 0.47380456\n 0.4887973  0.4882217  0.498968   0.42662174 0.46795002 0.67980726\n 0.40623624 0.62536366 0.57552939 0.53220874 0.60384941 0.61129752\n 0.32739572 0.68380369 0.46038408 0.48340871 0.41449865 0.45846757\n 0.30369306 0.4551598  0.46462328 0.45657635 0.37835634 0.49815318\n 0.33494471 0.37128274 0.34929989 0.47070877 0.74006054 0.43912846\n 0.32747596 0.47320348 0.46376592 0.59134309 0.39670191 0.73630354\n 0.36874177 0.4605414  0.33340955 0.4609314  0.58920104 0.37250616\n 0.50210863 0.412993   0.38679648 0.47559516 0.40035115 0.42314148\n 0.4088415  0.53678522 0.57203915 0.44063762 0.50942842 0.4570499\n 0.53266998 0.50077106 0.38578336 0.50553016 0.30421037 0.30697633\n 0.72384004 0.43541439 0.57763657 0.40382748 0.3564508  0.4332103\n 0.60594257 0.35091257 0.43426039 0.43421355 0.389027   0.39096751\n 0.47954125 0.33838831 0.63076235 0.51795632 0.64199747 0.36245499\n 0.65917144 0.4060496  0.36633946 0.15821307 0.56761323 0.53948321\n 0.40849042 0.55411004 0.38478865 0.44242758 0.48040409 0.43445697\n 0.46210244 0.51225139 0.47453618 0.43395202 0.4671292  0.54423927\n 0.35341566 0.52556626 0.23321084 0.50523651 0.55826696 0.65376974\n 0.37854738 0.34519879 0.51242333 0.48627943 0.41962246 0.36856496\n 0.47214495 0.38965565 0.43240292 0.43222743 0.40192952 0.30641291\n 0.39339223 0.35277892 0.27520984 0.50257896 0.51725387 0.29536817\n 0.42998086 0.35201192 0.34399168 0.6723951  0.50547432 0.34252988\n 0.40341565 0.42864496 0.46689358 0.52456823 0.43842472 0.45951194\n 0.49040314 0.49608024 0.36823178 0.65987278 0.48010959 0.43449766\n 0.488139   0.59237432 0.53227122 0.48263833 0.33117085 0.20433256\n 0.33071783 0.41417986 0.43032171 0.362369   0.39566701 0.38744773\n 0.38260656 0.48903538 0.49202041 0.58753944 0.45300089 0.58116336\n 0.43364288 0.49598813 0.40812435 0.47945602 0.4484693  0.48911005\n 0.44669068 0.41102381 0.47205501 0.4969534  0.44136152 0.48684783\n 0.41445713 0.42160153 0.31301092 0.49382994 0.47770877 0.38997523\n 0.51820938 0.38456504 0.56168285 0.30490893 0.50815939 0.58027153\n 0.44534269 0.32495664 0.39139944 0.4958225  0.67401368 0.4172945\n 0.45381791 0.39955234 0.49291169 0.43219233 0.51263089 0.4183684\n 0.48998319 0.50773339 0.43825618 0.47230434 0.39049074 0.38710451\n 0.43604541 0.39931832 0.4130206  0.40448803 0.43863942 0.50739819\n 0.69184462 0.52387612 0.5312858  0.3404465  0.5081469  0.43021007\n 0.53738435 0.44817405 0.3488978  0.49879938 0.43402479 0.42958467\n 0.45501199 0.56830275 0.43010968 0.56766131 0.40152546 0.63108826\n 0.34771719 0.34169697 0.60437496 0.52899997 0.49210521 0.43344503\n 0.60375115 0.56653747 0.33611492 0.55039473 0.39182288 0.51123501\n 0.4733953  0.40581522 0.46790396 0.51905575 0.51597613 0.51654455\n 0.4512391  0.43053111 0.48743377 0.51195064 0.36423428 0.41262916\n 0.48532437 0.37419942 0.26268665 0.47151649 0.41660815 0.4524007\n 0.37367422 0.59033634 0.60263156 0.50110702 0.32216708 0.4507916\n 0.44457912 0.46223728 0.434837   0.47683672 0.58343458 0.46954554\n 0.46052833 0.54227432 0.36178437 0.56085551 0.43973333 0.329876\n 0.55656864 0.33201522 0.41806842 0.39826748 0.60935742 0.56562421\n 0.40481953 0.3603444  0.34708649 0.54885877 0.48899747 0.40420192\n 0.50246351 0.47967193 0.29277863 0.51343467 0.49062241 0.48054588\n 0.53928317 0.4632364  0.53901622 0.3831588  0.41141997 0.52885397\n 0.23048953 0.40080852 0.50487686 0.38214571 0.45373813 0.48930669\n 0.45939293 0.57271721 0.33597134 0.45961406 0.38692054 0.43418742\n 0.35147952 0.37421982 0.3691389  0.40208642 0.30390621 0.46350411\n 0.57055484 0.47935687 0.46176544 0.40717977 0.39419459 0.41065873\n 0.63700131 0.3995549  0.25672522 0.56695756 0.5741612  0.40634493\n 0.64387495 0.44864227 0.44544359 0.5440937  0.42676743 0.49440318\n 0.60910753 0.48305608 0.47397249 0.27825682 0.42660989 0.49302327\n 0.39379359 0.40914359 0.49092358 0.42341243 0.58938607 0.57164478\n 0.26088928 0.45320467 0.46798044 0.45949642 0.50633817 0.47859966\n 0.52393625 0.38297461 0.32635596 0.46571552 0.55768702 0.47271963\n 0.60064018 0.38174748 0.18171806 0.46422681 0.49715338 0.43916027\n 0.4399172  0.45866638 0.72246933 0.36214434 0.24653454 0.46641676\n 0.41507958 0.439043   0.42653469 0.4959876  0.4666273 ]\n"
    }
   ],
   "source": [
    "yhat = predict_prob(X_train, w)\n",
    "print(yhat)"
   ]
  },
  {
   "cell_type": "code",
   "execution_count": 308,
   "metadata": {
    "ExecuteTime": {
     "end_time": "2021-06-08T03:10:49.248996Z",
     "start_time": "2021-06-08T03:10:49.216Z"
    },
    "tags": []
   },
   "outputs": [
    {
     "output_type": "stream",
     "name": "stdout",
     "text": "0.8186091498876624\n"
    }
   ],
   "source": [
    "loss = binary_cross_entropy(y_train, yhat)\n",
    "print(loss)"
   ]
  },
  {
   "cell_type": "markdown",
   "metadata": {},
   "source": [
    "# Solve using Gradient Descent"
   ]
  },
  {
   "cell_type": "markdown",
   "metadata": {},
   "source": [
    "### Calculate gradient\n",
    "For practice, you can try to derive the gradient using pen and paper"
   ]
  },
  {
   "cell_type": "code",
   "execution_count": 309,
   "metadata": {
    "ExecuteTime": {
     "end_time": "2021-06-08T03:10:49.252566Z",
     "start_time": "2021-06-08T03:10:49.204031Z"
    }
   },
   "outputs": [],
   "source": [
    "def compute_gradient(X, y, w):\n",
    "    # Code here\n",
    "    m = y.shape[0]\n",
    "    dw = (1/m) * np.dot(X.T,  predict_prob(X,w) - y)\n",
    "    return dw"
   ]
  },
  {
   "cell_type": "markdown",
   "metadata": {},
   "source": [
    "### Update Weights"
   ]
  },
  {
   "cell_type": "code",
   "execution_count": 310,
   "metadata": {
    "ExecuteTime": {
     "end_time": "2021-06-08T03:10:49.252566Z",
     "start_time": "2021-06-08T03:10:49.204031Z"
    }
   },
   "outputs": [],
   "source": [
    "# Code here\n",
    "w = w - lr*compute_gradient(X_train, y_train, w)"
   ]
  },
  {
   "cell_type": "markdown",
   "metadata": {},
   "source": [
    "### Repeat for N- Iterations"
   ]
  },
  {
   "cell_type": "code",
   "execution_count": 311,
   "metadata": {
    "ExecuteTime": {
     "end_time": "2021-06-08T03:10:49.254612Z",
     "start_time": "2021-06-08T03:10:49.228Z"
    }
   },
   "outputs": [],
   "source": [
    "N = 5000\n",
    "losses = []\n",
    "for i in range(N):\n",
    "    # Predict\n",
    "    yhat = predict_prob(X_train, w)\n",
    "    \n",
    "    # Calculate Loss\n",
    "    loss = binary_cross_entropy(y_train, yhat)\n",
    "    \n",
    "    # Compute gradient dL/dW\n",
    "    dw = compute_gradient(X_train, y_train, w)\n",
    "    \n",
    "    # Update the weights\n",
    "    w = w - lr*dw\n",
    "    \n",
    "    losses.append(loss)"
   ]
  },
  {
   "cell_type": "markdown",
   "metadata": {},
   "source": [
    "### Plot the loss curve"
   ]
  },
  {
   "cell_type": "code",
   "execution_count": 312,
   "metadata": {
    "ExecuteTime": {
     "end_time": "2021-06-08T03:10:49.256637Z",
     "start_time": "2021-06-08T03:10:49.233Z"
    }
   },
   "outputs": [
    {
     "output_type": "display_data",
     "data": {
      "text/plain": "<Figure size 432x288 with 1 Axes>",
      "image/svg+xml": "<?xml version=\"1.0\" encoding=\"utf-8\" standalone=\"no\"?>\n<!DOCTYPE svg PUBLIC \"-//W3C//DTD SVG 1.1//EN\"\n  \"http://www.w3.org/Graphics/SVG/1.1/DTD/svg11.dtd\">\n<svg height=\"248.518125pt\" version=\"1.1\" viewBox=\"0 0 372.103125 248.518125\" width=\"372.103125pt\" xmlns=\"http://www.w3.org/2000/svg\" xmlns:xlink=\"http://www.w3.org/1999/xlink\">\n <metadata>\n  <rdf:RDF xmlns:cc=\"http://creativecommons.org/ns#\" xmlns:dc=\"http://purl.org/dc/elements/1.1/\" xmlns:rdf=\"http://www.w3.org/1999/02/22-rdf-syntax-ns#\">\n   <cc:Work>\n    <dc:type rdf:resource=\"http://purl.org/dc/dcmitype/StillImage\"/>\n    <dc:date>2021-06-10T13:32:03.003932</dc:date>\n    <dc:format>image/svg+xml</dc:format>\n    <dc:creator>\n     <cc:Agent>\n      <dc:title>Matplotlib v3.4.2, https://matplotlib.org/</dc:title>\n     </cc:Agent>\n    </dc:creator>\n   </cc:Work>\n  </rdf:RDF>\n </metadata>\n <defs>\n  <style type=\"text/css\">*{stroke-linecap:butt;stroke-linejoin:round;}</style>\n </defs>\n <g id=\"figure_1\">\n  <g id=\"patch_1\">\n   <path d=\"M 0 248.518125 \nL 372.103125 248.518125 \nL 372.103125 0 \nL 0 0 \nz\n\" style=\"fill:none;\"/>\n  </g>\n  <g id=\"axes_1\">\n   <g id=\"patch_2\">\n    <path d=\"M 30.103125 224.64 \nL 364.903125 224.64 \nL 364.903125 7.2 \nL 30.103125 7.2 \nz\n\" style=\"fill:#ffffff;\"/>\n   </g>\n   <g id=\"matplotlib.axis_1\">\n    <g id=\"xtick_1\">\n     <g id=\"line2d_1\">\n      <defs>\n       <path d=\"M 0 0 \nL 0 3.5 \n\" id=\"m7a0a00c6f9\" style=\"stroke:#000000;stroke-width:0.8;\"/>\n      </defs>\n      <g>\n       <use style=\"stroke:#000000;stroke-width:0.8;\" x=\"45.321307\" xlink:href=\"#m7a0a00c6f9\" y=\"224.64\"/>\n      </g>\n     </g>\n     <g id=\"text_1\">\n      <!-- 0 -->\n      <g transform=\"translate(42.140057 239.238437)scale(0.1 -0.1)\">\n       <defs>\n        <path d=\"M 2034 4250 \nQ 1547 4250 1301 3770 \nQ 1056 3291 1056 2328 \nQ 1056 1369 1301 889 \nQ 1547 409 2034 409 \nQ 2525 409 2770 889 \nQ 3016 1369 3016 2328 \nQ 3016 3291 2770 3770 \nQ 2525 4250 2034 4250 \nz\nM 2034 4750 \nQ 2819 4750 3233 4129 \nQ 3647 3509 3647 2328 \nQ 3647 1150 3233 529 \nQ 2819 -91 2034 -91 \nQ 1250 -91 836 529 \nQ 422 1150 422 2328 \nQ 422 3509 836 4129 \nQ 1250 4750 2034 4750 \nz\n\" id=\"DejaVuSans-30\" transform=\"scale(0.015625)\"/>\n       </defs>\n       <use xlink:href=\"#DejaVuSans-30\"/>\n      </g>\n     </g>\n    </g>\n    <g id=\"xtick_2\">\n     <g id=\"line2d_2\">\n      <g>\n       <use style=\"stroke:#000000;stroke-width:0.8;\" x=\"106.206211\" xlink:href=\"#m7a0a00c6f9\" y=\"224.64\"/>\n      </g>\n     </g>\n     <g id=\"text_2\">\n      <!-- 1000 -->\n      <g transform=\"translate(93.481211 239.238437)scale(0.1 -0.1)\">\n       <defs>\n        <path d=\"M 794 531 \nL 1825 531 \nL 1825 4091 \nL 703 3866 \nL 703 4441 \nL 1819 4666 \nL 2450 4666 \nL 2450 531 \nL 3481 531 \nL 3481 0 \nL 794 0 \nL 794 531 \nz\n\" id=\"DejaVuSans-31\" transform=\"scale(0.015625)\"/>\n       </defs>\n       <use xlink:href=\"#DejaVuSans-31\"/>\n       <use x=\"63.623047\" xlink:href=\"#DejaVuSans-30\"/>\n       <use x=\"127.246094\" xlink:href=\"#DejaVuSans-30\"/>\n       <use x=\"190.869141\" xlink:href=\"#DejaVuSans-30\"/>\n      </g>\n     </g>\n    </g>\n    <g id=\"xtick_3\">\n     <g id=\"line2d_3\">\n      <g>\n       <use style=\"stroke:#000000;stroke-width:0.8;\" x=\"167.091115\" xlink:href=\"#m7a0a00c6f9\" y=\"224.64\"/>\n      </g>\n     </g>\n     <g id=\"text_3\">\n      <!-- 2000 -->\n      <g transform=\"translate(154.366115 239.238437)scale(0.1 -0.1)\">\n       <defs>\n        <path d=\"M 1228 531 \nL 3431 531 \nL 3431 0 \nL 469 0 \nL 469 531 \nQ 828 903 1448 1529 \nQ 2069 2156 2228 2338 \nQ 2531 2678 2651 2914 \nQ 2772 3150 2772 3378 \nQ 2772 3750 2511 3984 \nQ 2250 4219 1831 4219 \nQ 1534 4219 1204 4116 \nQ 875 4013 500 3803 \nL 500 4441 \nQ 881 4594 1212 4672 \nQ 1544 4750 1819 4750 \nQ 2544 4750 2975 4387 \nQ 3406 4025 3406 3419 \nQ 3406 3131 3298 2873 \nQ 3191 2616 2906 2266 \nQ 2828 2175 2409 1742 \nQ 1991 1309 1228 531 \nz\n\" id=\"DejaVuSans-32\" transform=\"scale(0.015625)\"/>\n       </defs>\n       <use xlink:href=\"#DejaVuSans-32\"/>\n       <use x=\"63.623047\" xlink:href=\"#DejaVuSans-30\"/>\n       <use x=\"127.246094\" xlink:href=\"#DejaVuSans-30\"/>\n       <use x=\"190.869141\" xlink:href=\"#DejaVuSans-30\"/>\n      </g>\n     </g>\n    </g>\n    <g id=\"xtick_4\">\n     <g id=\"line2d_4\">\n      <g>\n       <use style=\"stroke:#000000;stroke-width:0.8;\" x=\"227.97602\" xlink:href=\"#m7a0a00c6f9\" y=\"224.64\"/>\n      </g>\n     </g>\n     <g id=\"text_4\">\n      <!-- 3000 -->\n      <g transform=\"translate(215.25102 239.238437)scale(0.1 -0.1)\">\n       <defs>\n        <path d=\"M 2597 2516 \nQ 3050 2419 3304 2112 \nQ 3559 1806 3559 1356 \nQ 3559 666 3084 287 \nQ 2609 -91 1734 -91 \nQ 1441 -91 1130 -33 \nQ 819 25 488 141 \nL 488 750 \nQ 750 597 1062 519 \nQ 1375 441 1716 441 \nQ 2309 441 2620 675 \nQ 2931 909 2931 1356 \nQ 2931 1769 2642 2001 \nQ 2353 2234 1838 2234 \nL 1294 2234 \nL 1294 2753 \nL 1863 2753 \nQ 2328 2753 2575 2939 \nQ 2822 3125 2822 3475 \nQ 2822 3834 2567 4026 \nQ 2313 4219 1838 4219 \nQ 1578 4219 1281 4162 \nQ 984 4106 628 3988 \nL 628 4550 \nQ 988 4650 1302 4700 \nQ 1616 4750 1894 4750 \nQ 2613 4750 3031 4423 \nQ 3450 4097 3450 3541 \nQ 3450 3153 3228 2886 \nQ 3006 2619 2597 2516 \nz\n\" id=\"DejaVuSans-33\" transform=\"scale(0.015625)\"/>\n       </defs>\n       <use xlink:href=\"#DejaVuSans-33\"/>\n       <use x=\"63.623047\" xlink:href=\"#DejaVuSans-30\"/>\n       <use x=\"127.246094\" xlink:href=\"#DejaVuSans-30\"/>\n       <use x=\"190.869141\" xlink:href=\"#DejaVuSans-30\"/>\n      </g>\n     </g>\n    </g>\n    <g id=\"xtick_5\">\n     <g id=\"line2d_5\">\n      <g>\n       <use style=\"stroke:#000000;stroke-width:0.8;\" x=\"288.860924\" xlink:href=\"#m7a0a00c6f9\" y=\"224.64\"/>\n      </g>\n     </g>\n     <g id=\"text_5\">\n      <!-- 4000 -->\n      <g transform=\"translate(276.135924 239.238437)scale(0.1 -0.1)\">\n       <defs>\n        <path d=\"M 2419 4116 \nL 825 1625 \nL 2419 1625 \nL 2419 4116 \nz\nM 2253 4666 \nL 3047 4666 \nL 3047 1625 \nL 3713 1625 \nL 3713 1100 \nL 3047 1100 \nL 3047 0 \nL 2419 0 \nL 2419 1100 \nL 313 1100 \nL 313 1709 \nL 2253 4666 \nz\n\" id=\"DejaVuSans-34\" transform=\"scale(0.015625)\"/>\n       </defs>\n       <use xlink:href=\"#DejaVuSans-34\"/>\n       <use x=\"63.623047\" xlink:href=\"#DejaVuSans-30\"/>\n       <use x=\"127.246094\" xlink:href=\"#DejaVuSans-30\"/>\n       <use x=\"190.869141\" xlink:href=\"#DejaVuSans-30\"/>\n      </g>\n     </g>\n    </g>\n    <g id=\"xtick_6\">\n     <g id=\"line2d_6\">\n      <g>\n       <use style=\"stroke:#000000;stroke-width:0.8;\" x=\"349.745828\" xlink:href=\"#m7a0a00c6f9\" y=\"224.64\"/>\n      </g>\n     </g>\n     <g id=\"text_6\">\n      <!-- 5000 -->\n      <g transform=\"translate(337.020828 239.238437)scale(0.1 -0.1)\">\n       <defs>\n        <path d=\"M 691 4666 \nL 3169 4666 \nL 3169 4134 \nL 1269 4134 \nL 1269 2991 \nQ 1406 3038 1543 3061 \nQ 1681 3084 1819 3084 \nQ 2600 3084 3056 2656 \nQ 3513 2228 3513 1497 \nQ 3513 744 3044 326 \nQ 2575 -91 1722 -91 \nQ 1428 -91 1123 -41 \nQ 819 9 494 109 \nL 494 744 \nQ 775 591 1075 516 \nQ 1375 441 1709 441 \nQ 2250 441 2565 725 \nQ 2881 1009 2881 1497 \nQ 2881 1984 2565 2268 \nQ 2250 2553 1709 2553 \nQ 1456 2553 1204 2497 \nQ 953 2441 691 2322 \nL 691 4666 \nz\n\" id=\"DejaVuSans-35\" transform=\"scale(0.015625)\"/>\n       </defs>\n       <use xlink:href=\"#DejaVuSans-35\"/>\n       <use x=\"63.623047\" xlink:href=\"#DejaVuSans-30\"/>\n       <use x=\"127.246094\" xlink:href=\"#DejaVuSans-30\"/>\n       <use x=\"190.869141\" xlink:href=\"#DejaVuSans-30\"/>\n      </g>\n     </g>\n    </g>\n   </g>\n   <g id=\"matplotlib.axis_2\">\n    <g id=\"ytick_1\">\n     <g id=\"line2d_7\">\n      <defs>\n       <path d=\"M 0 0 \nL -3.5 0 \n\" id=\"m503684495b\" style=\"stroke:#000000;stroke-width:0.8;\"/>\n      </defs>\n      <g>\n       <use style=\"stroke:#000000;stroke-width:0.8;\" x=\"30.103125\" xlink:href=\"#m503684495b\" y=\"196.371653\"/>\n      </g>\n     </g>\n     <g id=\"text_7\">\n      <!-- 0.3 -->\n      <g transform=\"translate(7.2 200.170872)scale(0.1 -0.1)\">\n       <defs>\n        <path d=\"M 684 794 \nL 1344 794 \nL 1344 0 \nL 684 0 \nL 684 794 \nz\n\" id=\"DejaVuSans-2e\" transform=\"scale(0.015625)\"/>\n       </defs>\n       <use xlink:href=\"#DejaVuSans-30\"/>\n       <use x=\"63.623047\" xlink:href=\"#DejaVuSans-2e\"/>\n       <use x=\"95.410156\" xlink:href=\"#DejaVuSans-33\"/>\n      </g>\n     </g>\n    </g>\n    <g id=\"ytick_2\">\n     <g id=\"line2d_8\">\n      <g>\n       <use style=\"stroke:#000000;stroke-width:0.8;\" x=\"30.103125\" xlink:href=\"#m503684495b\" y=\"161.660783\"/>\n      </g>\n     </g>\n     <g id=\"text_8\">\n      <!-- 0.4 -->\n      <g transform=\"translate(7.2 165.460001)scale(0.1 -0.1)\">\n       <use xlink:href=\"#DejaVuSans-30\"/>\n       <use x=\"63.623047\" xlink:href=\"#DejaVuSans-2e\"/>\n       <use x=\"95.410156\" xlink:href=\"#DejaVuSans-34\"/>\n      </g>\n     </g>\n    </g>\n    <g id=\"ytick_3\">\n     <g id=\"line2d_9\">\n      <g>\n       <use style=\"stroke:#000000;stroke-width:0.8;\" x=\"30.103125\" xlink:href=\"#m503684495b\" y=\"126.949912\"/>\n      </g>\n     </g>\n     <g id=\"text_9\">\n      <!-- 0.5 -->\n      <g transform=\"translate(7.2 130.749131)scale(0.1 -0.1)\">\n       <use xlink:href=\"#DejaVuSans-30\"/>\n       <use x=\"63.623047\" xlink:href=\"#DejaVuSans-2e\"/>\n       <use x=\"95.410156\" xlink:href=\"#DejaVuSans-35\"/>\n      </g>\n     </g>\n    </g>\n    <g id=\"ytick_4\">\n     <g id=\"line2d_10\">\n      <g>\n       <use style=\"stroke:#000000;stroke-width:0.8;\" x=\"30.103125\" xlink:href=\"#m503684495b\" y=\"92.239042\"/>\n      </g>\n     </g>\n     <g id=\"text_10\">\n      <!-- 0.6 -->\n      <g transform=\"translate(7.2 96.03826)scale(0.1 -0.1)\">\n       <defs>\n        <path d=\"M 2113 2584 \nQ 1688 2584 1439 2293 \nQ 1191 2003 1191 1497 \nQ 1191 994 1439 701 \nQ 1688 409 2113 409 \nQ 2538 409 2786 701 \nQ 3034 994 3034 1497 \nQ 3034 2003 2786 2293 \nQ 2538 2584 2113 2584 \nz\nM 3366 4563 \nL 3366 3988 \nQ 3128 4100 2886 4159 \nQ 2644 4219 2406 4219 \nQ 1781 4219 1451 3797 \nQ 1122 3375 1075 2522 \nQ 1259 2794 1537 2939 \nQ 1816 3084 2150 3084 \nQ 2853 3084 3261 2657 \nQ 3669 2231 3669 1497 \nQ 3669 778 3244 343 \nQ 2819 -91 2113 -91 \nQ 1303 -91 875 529 \nQ 447 1150 447 2328 \nQ 447 3434 972 4092 \nQ 1497 4750 2381 4750 \nQ 2619 4750 2861 4703 \nQ 3103 4656 3366 4563 \nz\n\" id=\"DejaVuSans-36\" transform=\"scale(0.015625)\"/>\n       </defs>\n       <use xlink:href=\"#DejaVuSans-30\"/>\n       <use x=\"63.623047\" xlink:href=\"#DejaVuSans-2e\"/>\n       <use x=\"95.410156\" xlink:href=\"#DejaVuSans-36\"/>\n      </g>\n     </g>\n    </g>\n    <g id=\"ytick_5\">\n     <g id=\"line2d_11\">\n      <g>\n       <use style=\"stroke:#000000;stroke-width:0.8;\" x=\"30.103125\" xlink:href=\"#m503684495b\" y=\"57.528171\"/>\n      </g>\n     </g>\n     <g id=\"text_11\">\n      <!-- 0.7 -->\n      <g transform=\"translate(7.2 61.32739)scale(0.1 -0.1)\">\n       <defs>\n        <path d=\"M 525 4666 \nL 3525 4666 \nL 3525 4397 \nL 1831 0 \nL 1172 0 \nL 2766 4134 \nL 525 4134 \nL 525 4666 \nz\n\" id=\"DejaVuSans-37\" transform=\"scale(0.015625)\"/>\n       </defs>\n       <use xlink:href=\"#DejaVuSans-30\"/>\n       <use x=\"63.623047\" xlink:href=\"#DejaVuSans-2e\"/>\n       <use x=\"95.410156\" xlink:href=\"#DejaVuSans-37\"/>\n      </g>\n     </g>\n    </g>\n    <g id=\"ytick_6\">\n     <g id=\"line2d_12\">\n      <g>\n       <use style=\"stroke:#000000;stroke-width:0.8;\" x=\"30.103125\" xlink:href=\"#m503684495b\" y=\"22.817301\"/>\n      </g>\n     </g>\n     <g id=\"text_12\">\n      <!-- 0.8 -->\n      <g transform=\"translate(7.2 26.61652)scale(0.1 -0.1)\">\n       <defs>\n        <path d=\"M 2034 2216 \nQ 1584 2216 1326 1975 \nQ 1069 1734 1069 1313 \nQ 1069 891 1326 650 \nQ 1584 409 2034 409 \nQ 2484 409 2743 651 \nQ 3003 894 3003 1313 \nQ 3003 1734 2745 1975 \nQ 2488 2216 2034 2216 \nz\nM 1403 2484 \nQ 997 2584 770 2862 \nQ 544 3141 544 3541 \nQ 544 4100 942 4425 \nQ 1341 4750 2034 4750 \nQ 2731 4750 3128 4425 \nQ 3525 4100 3525 3541 \nQ 3525 3141 3298 2862 \nQ 3072 2584 2669 2484 \nQ 3125 2378 3379 2068 \nQ 3634 1759 3634 1313 \nQ 3634 634 3220 271 \nQ 2806 -91 2034 -91 \nQ 1263 -91 848 271 \nQ 434 634 434 1313 \nQ 434 1759 690 2068 \nQ 947 2378 1403 2484 \nz\nM 1172 3481 \nQ 1172 3119 1398 2916 \nQ 1625 2713 2034 2713 \nQ 2441 2713 2670 2916 \nQ 2900 3119 2900 3481 \nQ 2900 3844 2670 4047 \nQ 2441 4250 2034 4250 \nQ 1625 4250 1398 4047 \nQ 1172 3844 1172 3481 \nz\n\" id=\"DejaVuSans-38\" transform=\"scale(0.015625)\"/>\n       </defs>\n       <use xlink:href=\"#DejaVuSans-30\"/>\n       <use x=\"63.623047\" xlink:href=\"#DejaVuSans-2e\"/>\n       <use x=\"95.410156\" xlink:href=\"#DejaVuSans-38\"/>\n      </g>\n     </g>\n    </g>\n   </g>\n   <g id=\"line2d_13\">\n    <path clip-path=\"url(#p6296ec5144)\" d=\"M 45.321307 17.083636 \nL 46.904314 34.539826 \nL 48.548207 50.211989 \nL 50.131214 63.264619 \nL 51.775107 74.986476 \nL 53.418999 85.117612 \nL 55.062891 93.911616 \nL 56.767669 101.852937 \nL 58.533331 109.027749 \nL 60.359878 115.519863 \nL 62.24731 121.407259 \nL 64.195627 126.760483 \nL 66.204829 131.642223 \nL 68.335801 136.231242 \nL 70.527657 140.425209 \nL 72.841284 144.369686 \nL 75.27668 148.07463 \nL 77.833846 151.552139 \nL 80.512781 154.815506 \nL 83.313487 157.87852 \nL 86.296847 160.811813 \nL 89.462862 163.612089 \nL 92.811532 166.279335 \nL 96.403741 168.857482 \nL 100.300375 171.375934 \nL 104.440549 173.785849 \nL 108.946032 176.147933 \nL 113.816824 178.446489 \nL 119.113811 180.695699 \nL 124.836992 182.882181 \nL 131.108137 185.037217 \nL 137.988131 187.162258 \nL 145.537859 189.257168 \nL 153.818206 191.320994 \nL 162.950942 193.365452 \nL 173.057836 195.397147 \nL 184.260658 197.419192 \nL 196.742064 199.441808 \nL 210.623822 201.461688 \nL 226.088588 203.483008 \nL 243.319015 205.507138 \nL 262.558645 207.539684 \nL 284.051016 209.582561 \nL 308.039669 211.635014 \nL 334.707257 213.689843 \nL 349.684943 214.756364 \nL 349.684943 214.756364 \n\" style=\"fill:none;stroke:#1f77b4;stroke-linecap:square;stroke-width:1.5;\"/>\n   </g>\n   <g id=\"patch_3\">\n    <path d=\"M 30.103125 224.64 \nL 30.103125 7.2 \n\" style=\"fill:none;stroke:#000000;stroke-linecap:square;stroke-linejoin:miter;stroke-width:0.8;\"/>\n   </g>\n   <g id=\"patch_4\">\n    <path d=\"M 364.903125 224.64 \nL 364.903125 7.2 \n\" style=\"fill:none;stroke:#000000;stroke-linecap:square;stroke-linejoin:miter;stroke-width:0.8;\"/>\n   </g>\n   <g id=\"patch_5\">\n    <path d=\"M 30.103125 224.64 \nL 364.903125 224.64 \n\" style=\"fill:none;stroke:#000000;stroke-linecap:square;stroke-linejoin:miter;stroke-width:0.8;\"/>\n   </g>\n   <g id=\"patch_6\">\n    <path d=\"M 30.103125 7.2 \nL 364.903125 7.2 \n\" style=\"fill:none;stroke:#000000;stroke-linecap:square;stroke-linejoin:miter;stroke-width:0.8;\"/>\n   </g>\n  </g>\n </g>\n <defs>\n  <clipPath id=\"p6296ec5144\">\n   <rect height=\"217.44\" width=\"334.8\" x=\"30.103125\" y=\"7.2\"/>\n  </clipPath>\n </defs>\n</svg>\n",
      "image/png": "[encoded data removed]"
     },
     "metadata": {
      "needs_background": "light"
     }
    }
   ],
   "source": [
    "# Loss curve here\n",
    "plt.plot(losses)\n",
    "plt.show()"
   ]
  },
  {
   "cell_type": "markdown",
   "metadata": {},
   "source": [
    "### Calculate the classification report and the confusion matrix"
   ]
  },
  {
   "cell_type": "code",
   "execution_count": 313,
   "metadata": {
    "ExecuteTime": {
     "end_time": "2021-06-09T13:03:52.812396Z",
     "start_time": "2021-06-09T13:03:52.804969Z"
    }
   },
   "outputs": [],
   "source": [
    "from sklearn.metrics import classification_report, confusion_matrix"
   ]
  },
  {
   "cell_type": "code",
   "execution_count": 314,
   "metadata": {
    "tags": []
   },
   "outputs": [
    {
     "output_type": "stream",
     "name": "stdout",
     "text": "[[146  22]\n [ 18 269]]\n              precision    recall  f1-score   support\n\n           0       0.89      0.87      0.88       168\n           1       0.92      0.94      0.93       287\n\n    accuracy                           0.91       455\n   macro avg       0.91      0.90      0.91       455\nweighted avg       0.91      0.91      0.91       455\n\n"
    }
   ],
   "source": [
    "# Scores here\n",
    "yhat = yhat.round()\n",
    "\n",
    "print(confusion_matrix(y_train, yhat))\n",
    "print(classification_report(y_train, yhat))"
   ]
  },
  {
   "cell_type": "markdown",
   "metadata": {},
   "source": [
    "# BONUS: Create a LogisticRegression Class [OPTIONAL]\n",
    "Create a Sklearn-like API"
   ]
  },
  {
   "cell_type": "code",
   "execution_count": 315,
   "metadata": {
    "ExecuteTime": {
     "end_time": "2021-06-08T03:10:49.363615Z",
     "start_time": "2021-06-08T03:10:49.359276Z"
    }
   },
   "outputs": [],
   "source": [
    "class LogisticRegression:\n",
    "    # You can define additional functions as per your need\n",
    "    def __init__(self, lr = 0.1, n_iters=5000):\n",
    "        self.lr = lr\n",
    "        self.n_iters = n_iters\n",
    "        self.w = None\n",
    "\n",
    "    def fit(self, X, y):\n",
    "        n_samples, n_features = X.shape\n",
    "\n",
    "        # init parameters\n",
    "        self.w = np.random.uniform(-1, 1, X.shape[1])\n",
    "\n",
    "        # gradient descent\n",
    "        for _ in range(self.n_iters):\n",
    "            # approximate y with linear combination of weights and x, plus bias\n",
    "            z = np.dot(X, self.w)\n",
    "            # apply sigmoid function\n",
    "            y_predicted = self._sigmoid(z)\n",
    "\n",
    "            # compute gradients\n",
    "            dw = (1 / n_samples) * np.dot(X.T, (y_predicted - y))\n",
    "            # update parameters\n",
    "            self.w -= self.lr * dw\n",
    "\n",
    "    def predict(self, X):\n",
    "        z = np.dot(X, self.w)\n",
    "        y_predicted = self._sigmoid(z)\n",
    "        y_predicted_cls = [1 if i > 0.5 else 0 for i in y_predicted]\n",
    "        return np.array(y_predicted_cls)\n",
    "\n",
    "    def _sigmoid(self, z):\n",
    "        return 1 / (1 + np.exp(-z))"
   ]
  },
  {
   "cell_type": "code",
   "execution_count": 316,
   "metadata": {},
   "outputs": [],
   "source": [
    "model = LogisticRegression()\n",
    "model.fit(X_train, y_train)\n",
    "predictions = model.predict(X_test).round()\n",
    "\n",
    "confusion_matrix_our = confusion_matrix(y_test, predictions)\n",
    "classification_report_our = classification_report(y_test, predictions)"
   ]
  },
  {
   "cell_type": "markdown",
   "metadata": {},
   "source": [
    "### Compare metrics with Sklearn's implementation"
   ]
  },
  {
   "cell_type": "code",
   "execution_count": 317,
   "metadata": {
    "ExecuteTime": {
     "end_time": "2021-06-08T03:13:38.648135Z",
     "start_time": "2021-06-08T03:13:38.640657Z"
    }
   },
   "outputs": [],
   "source": [
    "from sklearn.linear_model import LogisticRegression as SKLogisticRegression"
   ]
  },
  {
   "cell_type": "code",
   "execution_count": 318,
   "metadata": {},
   "outputs": [],
   "source": [
    "sklearn_model = SKLogisticRegression()\n",
    "sklearn_model.fit(X_train, y_train)\n",
    "sklearn_predictions = sklearn_model.predict(X_test)\n",
    "\n",
    "\n",
    "confusion_matrix_sklearn = confusion_matrix(y_test, sklearn_predictions)\n",
    "classification_report_sklearn = classification_report(y_test, sklearn_predictions)\n"
   ]
  },
  {
   "cell_type": "code",
   "execution_count": 319,
   "metadata": {
    "tags": []
   },
   "outputs": [
    {
     "output_type": "stream",
     "name": "stdout",
     "text": "Sklearn: [[40  4]\n [ 0 70]]\nOurs: [[41  3]\n [ 9 61]]\nSklearn:               precision    recall  f1-score   support\n\n           0       1.00      0.91      0.95        44\n           1       0.95      1.00      0.97        70\n\n    accuracy                           0.96       114\n   macro avg       0.97      0.95      0.96       114\nweighted avg       0.97      0.96      0.96       114\n\nOurs:               precision    recall  f1-score   support\n\n           0       0.82      0.93      0.87        44\n           1       0.95      0.87      0.91        70\n\n    accuracy                           0.89       114\n   macro avg       0.89      0.90      0.89       114\nweighted avg       0.90      0.89      0.90       114\n\n"
    }
   ],
   "source": [
    "### compare classification report and confusion matrix here\n",
    "print(f\"Sklearn: {confusion_matrix_sklearn}\")\n",
    "print(f\"Ours: {confusion_matrix_our}\")\n",
    "print(f\"Sklearn: {classification_report_sklearn}\")\n",
    "print(f\"Ours: {classification_report_our}\")\n"
   ]
  }
 ],
 "metadata": {
  "kernelspec": {
   "display_name": "Python 3",
   "language": "python",
   "name": "python3"
  },
  "language_info": {
   "codemirror_mode": {
    "name": "ipython",
    "version": 3
   },
   "file_extension": ".py",
   "mimetype": "text/x-python",
   "name": "python",
   "nbconvert_exporter": "python",
   "pygments_lexer": "ipython3",
   "version": "3.9.5-final"
  },
  "toc": {
   "base_numbering": 1,
   "nav_menu": {},
   "number_sections": true,
   "sideBar": true,
   "skip_h1_title": false,
   "title_cell": "Table of Contents",
   "title_sidebar": "Contents",
   "toc_cell": false,
   "toc_position": {},
   "toc_section_display": true,
   "toc_window_display": false
  }
 },
 "nbformat": 4,
 "nbformat_minor": 4
}